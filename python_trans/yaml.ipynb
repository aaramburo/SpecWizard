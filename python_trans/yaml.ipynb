{
 "cells": [
  {
   "cell_type": "code",
   "execution_count": 1,
   "id": "wrapped-peter",
   "metadata": {},
   "outputs": [],
   "source": [
    "import yaml"
   ]
  },
  {
   "cell_type": "code",
   "execution_count": 2,
   "id": "incredible-forty",
   "metadata": {},
   "outputs": [],
   "source": [
    "with open('test.yml') as file:\n",
    "    # The FullLoader parameter handles the conversion from YAML\n",
    "    # scalar values to Python the dictionary format\n",
    "    fruits_list = yaml.load(file, Loader=yaml.FullLoader)"
   ]
  },
  {
   "cell_type": "code",
   "execution_count": 3,
   "id": "selected-gregory",
   "metadata": {},
   "outputs": [
    {
     "data": {
      "text/plain": [
       "dict_keys(['directories', 'los_options', 'simulation_type', 'ion_parameters'])"
      ]
     },
     "execution_count": 3,
     "metadata": {},
     "output_type": "execute_result"
    }
   ],
   "source": [
    "fruits_list.keys()"
   ]
  },
  {
   "cell_type": "code",
   "execution_count": 12,
   "id": "ultimate-classic",
   "metadata": {},
   "outputs": [],
   "source": [
    "class read_params_yalm:\n",
    "    def __init__(self, file_name):\n",
    "        \n",
    "        with open(file_name) as file:\n",
    "            yaml_dic = yaml.load(file, Loader=yaml.FullLoader)\n",
    "        def sample_token(self,**response):\n",
    "            for k,v in response.items():\n",
    "                 if isinstance(v,dict):\n",
    "                     self.__dict__[k] = sample_token(self,**v)\n",
    "                 else:\n",
    "                     self.__dict__[k] = v\n",
    "        sample_token(self,**yaml_dic)"
   ]
  },
  {
   "cell_type": "code",
   "execution_count": 7,
   "id": "mediterranean-japanese",
   "metadata": {},
   "outputs": [],
   "source": [
    "params = read_params('test.yml')"
   ]
  },
  {
   "cell_type": "code",
   "execution_count": 11,
   "id": "eligible-identification",
   "metadata": {},
   "outputs": [],
   "source": [
    "params."
   ]
  },
  {
   "cell_type": "code",
   "execution_count": 49,
   "id": "rubber-render",
   "metadata": {},
   "outputs": [
    {
     "data": {
      "text/plain": [
       "'part_los_z0.010'"
      ]
     },
     "execution_count": 49,
     "metadata": {},
     "output_type": "execute_result"
    }
   ],
   "source": [
    "s.directories.snapshot.snap_base"
   ]
  },
  {
   "cell_type": "code",
   "execution_count": 30,
   "id": "southern-cedar",
   "metadata": {},
   "outputs": [],
   "source": [
    "s = Struct(**s.directories)"
   ]
  },
  {
   "cell_type": "code",
   "execution_count": 31,
   "id": "viral-onion",
   "metadata": {},
   "outputs": [
    {
     "data": {
      "text/plain": [
       "'/cosma5/data/dp004/dc-wije1/bertone_tables/ionbal/'"
      ]
     },
     "execution_count": 31,
     "metadata": {},
     "output_type": "execute_result"
    }
   ],
   "source": []
  },
  {
   "cell_type": "code",
   "execution_count": 14,
   "id": "charged-dublin",
   "metadata": {},
   "outputs": [
    {
     "data": {
      "text/plain": [
       "dict_keys(['ibdir', 'snapshot', 'outputdir'])"
      ]
     },
     "execution_count": 14,
     "metadata": {},
     "output_type": "execute_result"
    }
   ],
   "source": [
    "fruits_list['directories'].keys()"
   ]
  },
  {
   "cell_type": "code",
   "execution_count": 23,
   "id": "satellite-announcement",
   "metadata": {},
   "outputs": [
    {
     "name": "stdout",
     "output_type": "stream",
     "text": [
      "2\n",
      "2\n"
     ]
    },
    {
     "ename": "TypeError",
     "evalue": "object of type 'bool' has no len()",
     "output_type": "error",
     "traceback": [
      "\u001b[0;31m---------------------------------------------------------------------------\u001b[0m",
      "\u001b[0;31mTypeError\u001b[0m                                 Traceback (most recent call last)",
      "\u001b[0;32m<ipython-input-23-8d73f6369697>\u001b[0m in \u001b[0;36m<module>\u001b[0;34m\u001b[0m\n\u001b[1;32m      1\u001b[0m \u001b[0;32mfor\u001b[0m \u001b[0mks\u001b[0m \u001b[0;32min\u001b[0m \u001b[0mfruits_list\u001b[0m\u001b[0;34m[\u001b[0m\u001b[0;34m'los_options'\u001b[0m\u001b[0;34m]\u001b[0m\u001b[0;34m.\u001b[0m\u001b[0mkeys\u001b[0m\u001b[0;34m(\u001b[0m\u001b[0;34m)\u001b[0m\u001b[0;34m:\u001b[0m\u001b[0;34m\u001b[0m\u001b[0;34m\u001b[0m\u001b[0m\n\u001b[0;32m----> 2\u001b[0;31m     \u001b[0mprint\u001b[0m\u001b[0;34m(\u001b[0m\u001b[0mlen\u001b[0m\u001b[0;34m(\u001b[0m\u001b[0mfruits_list\u001b[0m\u001b[0;34m[\u001b[0m\u001b[0;34m'los_options'\u001b[0m\u001b[0;34m]\u001b[0m\u001b[0;34m[\u001b[0m\u001b[0mks\u001b[0m\u001b[0;34m]\u001b[0m\u001b[0;34m)\u001b[0m\u001b[0;34m)\u001b[0m\u001b[0;34m\u001b[0m\u001b[0;34m\u001b[0m\u001b[0m\n\u001b[0m",
      "\u001b[0;31mTypeError\u001b[0m: object of type 'bool' has no len()"
     ]
    }
   ],
   "source": [
    "for ks in fruits_list['los_options'].keys():\n",
    "    print(len(fruits_list['los_options'][ks]))"
   ]
  },
  {
   "cell_type": "code",
   "execution_count": 27,
   "id": "considerable-pepper",
   "metadata": {},
   "outputs": [],
   "source": [
    "if fruits_list['directories']['occupation']:\n",
    "    print(\"rectoria\")"
   ]
  },
  {
   "cell_type": "code",
   "execution_count": 9,
   "id": "enabling-contractor",
   "metadata": {},
   "outputs": [],
   "source": [
    "class read_params(object):\n",
    "    \"\"\"\n",
    "    Read the parameter file. \n",
    "    \"\"\"\n",
    "\n",
    "\n",
    "\n",
    "    def __init__(self, par_file):\n",
    "        def parsebool(str):\n",
    "            str = str.strip()\n",
    "            if str in ['true', 'True', 't', 'T', '1']:\n",
    "                out = True\n",
    "            elif str in ['false', 'False', 'f', 'F', '0']:\n",
    "                out = False\n",
    "            else:\n",
    "                raise ValueError('Could not parse string {} as a boolean'.format(str))\n",
    "            return out\n",
    "\n",
    "        with open(par_file, 'r') as input_file:\n",
    "            for line in input_file:\n",
    "                try:\n",
    "                    row = line.split()\n",
    "                    if len(row)==0 or list(row)[0][0] == \"#\":\n",
    "                        continue\n",
    "                    label = row[0]\n",
    "                    data = row[1:]  # rest of row is data list\n",
    "                    attr = label_attr_map[label][0]\n",
    "                    datatypes = label_attr_map[label][1:]\n",
    "\n",
    "                    values = [parsebool(data[i]) if datatypes[i] == bool else\\\n",
    "                                    (datatypes[i](data[i])) for i in range(len(data))]\n",
    "                    self.__dict__[attr] = values if len(values) > 1 else values[0]\n",
    "                except:\n",
    "                    print('Error at parameter file in : '+line)\n",
    "\n",
    "label_attr_map = {\n",
    "        \"ibdir:\": [\"ibdir\",str],\n",
    "        \"datadir:\": [ \"datadir\",str],\n",
    "        \"file_list:\": [\"file_list\",str],\n",
    "        \"outputdir:\": [\"outputdir\",str],\n",
    "        \"gimic:\": [\"gimic\",bool],\n",
    "        \"aurora:\": [\"aurora\",bool],\n",
    "        \"COLIBRE:\": [\"COLIBRE\",bool],\n",
    "        \"use_snapshot_file:\": [\"use_snapshot_file\",bool],\n",
    "        \"snap_base:\": [\"snap_base\",str],\n",
    "        \"use_random_los:\": [\"use_random_los\",bool],\n",
    "        \"read_eagle:\" : [\"read_eagle\",bool],\n",
    "        \"use_los_file:\": [\"use_los_file\",bool],\n",
    "        \"los_coordinates_file:\": [\"los_coordinates_file\",str],\n",
    "        \"integrate_kernel:\": [\"integrate_kernel\",bool],\n",
    "        \"use_gaussian_kernel:\": [\"use_gaussian_kernel\",bool],\n",
    "        \"do_long_spectrum:\": [\"do_long_spectrum\",bool],\n",
    "        \"NoPecVel:\": [\"NoPecVel\",bool],\n",
    "        \"overwrite:\": [\"overwrite\",bool],\n",
    "        \"nspec:\": [\"nspec\",int],\n",
    "        \"output_zspaceopticaldepthweighted_values:\": [\"output_zspaceopticaldepthweighted_values\",bool],\n",
    "        \"output_realspacemassweighted_values:\": [\"output_realspacemassweighted_values\",bool],\n",
    "        \"output_realspacenionweighted_values:\": [\"output_realspacenionweighted_values\",bool],\n",
    "        \"output_frequency:\": [\"output_frequency\",bool],\n",
    "        \"impose_eos:\": [\"impose_eos\",bool],\n",
    "        \"imposed_eos_T0:\": [\"imposed_eos_T0\",float],\n",
    "        \"imposed_eos_gamma:\": [\"imposed_eos_gamma\",float],\n",
    "        \"imposed_eos_maxod:\": [\"imposed_eos_maxod\",float],\n",
    "        \"doH1:\": [\"doH1\",bool],\n",
    "        \"doHe2:\": [\"doHe2\",bool],\n",
    "        \"doC2:\": [\"doC2\",bool],\n",
    "        \"doC3:\": [\"doC3\",bool],\n",
    "        \"doC4:\": [\"doC4\",bool],\n",
    "        \"doN2:\": [\"doN2\",bool],\n",
    "        \"doN3:\": [\"doN3\",bool],\n",
    "        \"doN4:\": [\"doN4\",bool],\n",
    "        \"doN5:\": [\"doN5\",bool],\n",
    "        \"doO1:\": [\"doO1\",bool],\n",
    "        \"doO3:\": [\"doO3\",bool],\n",
    "        \"doO4:\": [\"doO4\",bool],\n",
    "        \"doO5:\": [\"doO5\",bool],\n",
    "        \"doO6:\": [\"doO6\",bool],\n",
    "        \"doO7:\": [\"doO7\",bool],\n",
    "        \"doMg2:\": [\"doMg2\",bool],\n",
    "        \"doNe8:\": [\"doNe8\",bool],\n",
    "        \"doAl2:\": [\"doAl2\",bool],\n",
    "        \"doAl3:\": [\"doAl3\",bool],\n",
    "        \"doSi2:\": [\"doSi2\",bool],\n",
    "        \"doSi3:\": [\"doSi3\",bool],\n",
    "        \"doSi4:\": [\"doSi4\",bool],\n",
    "        \"doS5:\": [\"doS5\",bool],\n",
    "        \"doFe2:\": [\"doFe2\",bool],\n",
    "        \"doFe3:\": [\"doFe3\",bool],\n",
    "        \"do21cm:\": [\"do21cm\",bool],\n",
    "        \"doall:\": [\"doall\",bool],\n",
    "        \"ibfactor:\": [\"ibfactor\",float],\n",
    "        \"use_fitted_ibfactor:\": [\"use_fitted_ibfactor\",bool],\n",
    "        \"ibfactor_he_reionization:\": [\"ibfactor_he_reionization\",bool],\n",
    "        \"use_maxdens_above_zmax:\": [\"use_maxdens_above_zmax\",bool],\n",
    "        \"modify_metallicity:\": [\"modify_metallicity\",bool],\n",
    "        \"maxz_rel:\": [\"maxz_rel\",float],\n",
    "        \"scale_simulation_abundances:\": [\"scale_simulation_abundances\",bool],\n",
    "        \"z_rel:\": [\"z_rel\",float],\n",
    "        \"impose_z_rho_relation:\": [\"impose_z_rho_relation\",bool],\n",
    "        \"z_index:\": [\"z_index\",float],\n",
    "        \"z_mean:\": [\"z_mean\",float],\n",
    "        \"log_normal_scatter:\": [\"log_normal_scatter\",bool],\n",
    "        \"z_sig_bin:\": [\"z_sig_bin\",int],\n",
    "        \"z_sig_dex:\": [\"z_sig_dex\",float],\n",
    "        \"ZC_rel:\": [\"ZC_rel\",float],\n",
    "        \"ZN_rel:\": [\"ZN_rel\",float],\n",
    "        \"ZO_rel:\": [\"ZO_rel\",float],\n",
    "        \"ZNe_rel:\": [\"ZNe_rel\",float],\n",
    "        \"ZMg_rel:\": [\"ZMg_rel\",float],\n",
    "        \"ZAl_rel:\": [\"ZAl_rel\",float],\n",
    "        \"ZSi_rel:\": [\"ZSi_rel\",float],\n",
    "        \"ZS_rel:\": [\"ZS_rel\",float],\n",
    "        \"ZFe_rel:\": [\"ZFe_rel\",float],\n",
    "        \"read_part_ids_from_file:\": [\"read_part_ids_from_file\",bool],\n",
    "        \"flagged_particle_metallicity:\": [\"flagged_particle_metallicity\",float],\n",
    "        \"generate_noise:\": [\"generate_noise\",bool],\n",
    "        \"use_noise_file:\": [\"use_noise_file\",float],\n",
    "        \"noisefile:\": [\"noisefile\",str],\n",
    "        \"sigtonoise:\": [\"sigtonoise\",float],\n",
    "        \"minnoise:\": [\"minnoise\",float],\n",
    "        \"minbother_blue:\" : [\"minbother_blue\",float],\n",
    "        \"minbother_red:\" : [\"minbother_red\",float],\n",
    "        \"vpixsizekms:\" : [\"vpixsizekms\",float],\n",
    "        \"do_convolve_spectrum:\" : [\"do_convolve_spectrum\",bool],\n",
    "        \"fwhm:\": [\"fwhm\",float],\n",
    "        \"zqso:\": [\"zqso\",float],\n",
    "        \"minlambda:\": [\"minlambda\",float],\n",
    "        \"maxlambda:\": [\"minlambda\",float],\n",
    "        \"zabsmin:\": [\"zabsmin\",float],\n",
    "        \"zabsmax:\": [\"zabsmax\",float],\n",
    "        \"nlyman:\" : [\"nlyman\",int],\n",
    "        \"fzresol:\": [\"fzresol\",float],\n",
    "        \"pixsize:\": [\"pixsize\",float]\n",
    "        }"
   ]
  },
  {
   "cell_type": "code",
   "execution_count": null,
   "id": "correct-summary",
   "metadata": {},
   "outputs": [],
   "source": []
  }
 ],
 "metadata": {
  "kernelspec": {
   "display_name": "Python 3",
   "language": "python",
   "name": "python3"
  },
  "language_info": {
   "codemirror_mode": {
    "name": "ipython",
    "version": 3
   },
   "file_extension": ".py",
   "mimetype": "text/x-python",
   "name": "python",
   "nbconvert_exporter": "python",
   "pygments_lexer": "ipython3",
   "version": "3.9.1"
  }
 },
 "nbformat": 4,
 "nbformat_minor": 5
}
