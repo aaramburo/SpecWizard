{
 "cells": [
  {
   "cell_type": "code",
   "execution_count": 39,
   "metadata": {},
   "outputs": [],
   "source": [
    "import numpy as np\n",
    "import h5py as h5\n",
    "import sys\n",
    "import physical_data as const\n",
    "from read_parameter_file import read_params\n",
    "import reading_data_for_los as RD\n",
    "import matplotlib.pyplot as plt\n",
    "from computeibb import computeibb as computeib\n",
    "from prodata import projectdata\n",
    "import time\n",
    "from intergrid import Intergrid      "
   ]
  },
  {
   "cell_type": "code",
   "execution_count": 2,
   "metadata": {},
   "outputs": [
    {
     "name": "stdout",
     "output_type": "stream",
     "text": [
      "LOS1/PartType0/Positions\n"
     ]
    }
   ],
   "source": [
    "#Load dummy parameters from a \"typical\" specwizard run \n",
    "parameters = read_params('dummy.par')\n",
    "\n",
    "#Load a small EAGLE box for testing\n",
    "fname = \"/home/andres/small_snap/snap_028_z000p000\"\n",
    "\n",
    "#Load a example of a postprocess LOS file\n",
    "fname2 = \"/home/andres/part_los_z0.010\"\n",
    "\n",
    "#Load class that contianes the particle information i,e position, velocities etc.\n",
    "loss = RD.read_particle_data_from_los(fname2,1)        \n",
    "\n",
    "#Load the class the contains the header information\n",
    "simdata = RD.read_header(fname2)\n",
    "\n",
    "#Conversion factors \n",
    "convert = RD.units_and_factors_for_los(fname2)\n",
    "\n",
    "# This outputs which is what is the long axis from the LOS  (0=x,1=y,z=2)\n",
    "los_long_axis = np.argmax([(loss.Position[:,0].max()-loss.Position[:,0].min()) /simdata.HubbleParam * simdata.ExpansionFactor,(loss.Position[:,1].max()-loss.Position[:,1].min()) /simdata.HubbleParam * simdata.ExpansionFactor,(loss.Position[:,2].max()-loss.Position[:,2].min()) /simdata.HubbleParam * simdata.ExpansionFactor])"
   ]
  },
  {
   "cell_type": "code",
   "execution_count": 3,
   "metadata": {},
   "outputs": [],
   "source": [
    "acurrent = simdata.ExpansionFactor\n",
    "zcurrent = simdata.Redshift\n",
    "CurrentHubbleCt = 100. * simdata.HubbleParam *  np.sqrt(1. + simdata.Omega0*(1./acurrent-1.) + simdata.OmegaLambda* (acurrent**2-1.)) /acurrent\n",
    "boxkms = simdata.BoxSize / simdata.HubbleParam * acurrent * CurrentHubbleCt\n",
    "\n",
    "vpixsizekms = 1\n",
    "nveloc = int(boxkms / vpixsizekms) + 1"
   ]
  },
  {
   "cell_type": "code",
   "execution_count": 4,
   "metadata": {},
   "outputs": [],
   "source": [
    "Coordinates_conv     = convert.Pos_aexp_exp * np.log10(simdata.ExpansionFactor) + convert.Pos_h_exp * np.log10(simdata.HubbleParam) + np.log10(convert.Pos_cgs_unit) - np.log10(convert.cm_per_mpc) # in physical Mpc\n",
    "Coordinates_conv     = 10.0**Coordinates_conv\n",
    "Position = loss.Position * Coordinates_conv\n",
    "BoxPhys = simdata.BoxSize * Coordinates_conv\n",
    "ParticleSmoothingLength = loss.ParticleSmoothingLength * Coordinates_conv"
   ]
  },
  {
   "cell_type": "code",
   "execution_count": 5,
   "metadata": {},
   "outputs": [],
   "source": [
    "Velocity_conv = convert.Vel_aexp_exp * np.log10(simdata.ExpansionFactor) + convert.Vel_h_exp * np.log10(simdata.HubbleParam) + np.log10(convert.Vel_cgs_unit) - np.log10(1e5) #$ physical km/s\n",
    "Velocity_conv = 10.0**Velocity_conv\n",
    "Velocity = loss.Velocity * Velocity_conv"
   ]
  },
  {
   "cell_type": "code",
   "execution_count": 6,
   "metadata": {},
   "outputs": [],
   "source": [
    "Density_conv = convert.Dens_aexp_exp * np.log10(simdata.ExpansionFactor) + convert.Dens_h_exp * np.log10(simdata.HubbleParam) + np.log10(convert.Dens_cgs_unit)- np.log10(convert.proton_mass)\n",
    "Density_conv = 10**Density_conv\n",
    "ParticleDensity = loss.ParticleDensity * Density_conv\n",
    "#Convert from total density to *Hydrogen* number density\n",
    "ParticleDensity = ParticleDensity * loss.MassFractions[:,0]\n",
    "Metallicity = loss.Metallicity[...] / const.Zmass_solar  #metallicity in solar units\n"
   ]
  },
  {
   "cell_type": "code",
   "execution_count": 7,
   "metadata": {},
   "outputs": [],
   "source": [
    "Mass_conv = convert.Mass_aexp_exp * np.log10(simdata.ExpansionFactor) + convert.Mass_h_exp * np.log10(simdata.HubbleParam) + np.log10(convert.Mass_cgs_unit) - np.log10(convert.solar_mass)\n",
    "Mass_conv = 10.0**Mass_conv\n",
    "Mass   = loss.Mass * Mass_conv"
   ]
  },
  {
   "cell_type": "code",
   "execution_count": 8,
   "metadata": {},
   "outputs": [],
   "source": [
    "Temp_Conv           = convert.Temp_aexp_exp * np.log10(simdata.ExpansionFactor) + convert.Temp_h_exp * np.log10(simdata.HubbleParam) + np.log10(convert.Temp_cgs_unit) #! cgs\n",
    "Temp_Conv           = 10.0**Temp_Conv\n",
    "ParticleTemperature = loss.ParticleTemperature * Temp_Conv "
   ]
  },
  {
   "cell_type": "code",
   "execution_count": 9,
   "metadata": {},
   "outputs": [
    {
     "data": {
      "text/plain": [
       "1"
      ]
     },
     "execution_count": 9,
     "metadata": {},
     "output_type": "execute_result"
    }
   ],
   "source": [
    "los_long_axis"
   ]
  },
  {
   "cell_type": "code",
   "execution_count": 10,
   "metadata": {},
   "outputs": [],
   "source": [
    "Position_2 = np.zeros(np.shape(Position),dtype=np.float128)\n",
    "\n",
    "if los_long_axis == 0:\n",
    "    Position_2[:,0] = Position[:,1]\n",
    "    Position_2[:,1] = Position[:,2]\n",
    "    Position_2[:,2] = Position[:,0]\n",
    "elif los_long_axis == 1:\n",
    "    Position_2[:,0] = Position[:,2]\n",
    "    Position_2[:,1] = Position[:,0]\n",
    "    Position_2[:,2] = Position[:,1]\n",
    "    \n",
    "else:\n",
    "    Position_2[:,0] = Position[:,0]\n",
    "    Position_2[:,1] = Position[:,1]\n",
    "    Position_2[:,2] = Position[:,2]\n"
   ]
  },
  {
   "cell_type": "code",
   "execution_count": 11,
   "metadata": {},
   "outputs": [],
   "source": []
  },
  {
   "cell_type": "code",
   "execution_count": 12,
   "metadata": {},
   "outputs": [
    {
     "name": "stdout",
     "output_type": "stream",
     "text": [
      "67.31771097317782 22.452915650062227\n"
     ]
    }
   ],
   "source": [
    "print(x_physical,y_physical)"
   ]
  },
  {
   "cell_type": "code",
   "execution_count": 13,
   "metadata": {},
   "outputs": [],
   "source": [
    "\n",
    "ions_to_do = [parameters.doH1,parameters.doHe2,parameters.doC2,\n",
    "parameters.doC3,parameters.doC4,parameters.doN2,parameters.doN3,parameters.doN4,\n",
    "parameters.doN5,parameters.doO1,parameters.doO3,parameters.doO4,parameters.doO5,\n",
    "parameters.doO6,parameters.doO7,parameters.doMg2,parameters.doNe8,parameters.doAl2,\n",
    "parameters.doAl3,parameters.doSi2,parameters.doSi3,parameters.doSi4,parameters.doS5,\n",
    "parameters.doFe2,parameters.doFe3,parameters.do21cm]\n",
    "\n",
    "number_ions = np.sum(ions_to_do) # was nion in the original F90 subroutine, prob superflues in this implimentation\n",
    "\n",
    "number_species =  number_ions# was nspecies in the original F90\n",
    "\n",
    "if (number_ions==0):\n",
    "    print(\"ERROR: No ions were selected!\")\n",
    "    sys.exit()\n",
    "if (parameters.doH1 and parameters.do_long_spectrum and parameters.nlyman > const.nlyman_all):\n",
    "    print('ERROR: nlyman > n_lines_max')\n",
    "    sys.exit()\n",
    "if (const.Lambda_H1[0] !=  const.lyalpha):    # a bit superflus\n",
    "    print( 'ERROR: Lambda_H1[0] and lyalpha  are not equal ')\n",
    "\n",
    "ionbal_names = np.array([\"h1\",\"he2\",\"c2\",\"c3\",\"c4\",\"n2\",\"n3\",\"n4\",\"n5\",\"o1\",\"o3\",\"o4\",\"o5\",\"o6\",  #The elements of this list must be in the same order as\n",
    "                \"o7\",\"mg2\",\"ne8\",\"al2\",\"al3\",\"si2\",\"si3\",\"si4\",\"s5\",\"fe2\",\"fe3\",\"21cm\"])          # ions_to_do\n",
    "\n"
   ]
  },
  {
   "cell_type": "code",
   "execution_count": 14,
   "metadata": {},
   "outputs": [],
   "source": [
    "ionbal_to_use = ionbal_names[ions_to_do]"
   ]
  },
  {
   "cell_type": "code",
   "execution_count": 15,
   "metadata": {},
   "outputs": [
    {
     "data": {
      "text/plain": [
       "array(['h1', 'n2', 'n5', 'ne8', 'si2'], dtype='<U4')"
      ]
     },
     "execution_count": 15,
     "metadata": {},
     "output_type": "execute_result"
    }
   ],
   "source": [
    "ionbal_to_use"
   ]
  },
  {
   "cell_type": "code",
   "execution_count": 16,
   "metadata": {},
   "outputs": [
    {
     "name": "stdout",
     "output_type": "stream",
     "text": [
      "h1 Ionization table loaded\n",
      "n2 Ionization table loaded\n",
      "n5 Ionization table loaded\n",
      "ne8 Ionization table loaded\n",
      "si2 Ionization table loaded\n"
     ]
    }
   ],
   "source": [
    "# something like this...\n",
    "ionss = []\n",
    "first_iteration = True\n",
    "\n",
    "for ion_file in ionbal_to_use:\n",
    "    with h5.File(parameters.ibdir+ion_file+\".hdf5\",\"r\") as f:\n",
    "        if first_iteration:\n",
    "            z_ranges_table = f[\"/redshift\"][...]\n",
    "            logt_table = f[\"/logt\"][...]\n",
    "            logd_table = f[\"/logd\"][...]\n",
    "            first_iteration = False\n",
    "\n",
    "        ionss.append(f[\"/ionbal\"][...].flatten())\n",
    "        print(ion_file+' Ionization table loaded')\n"
   ]
  },
  {
   "cell_type": "code",
   "execution_count": 19,
   "metadata": {},
   "outputs": [],
   "source": [
    "ElementAtomicMass = [const.atom_dic[item][0] for item in ionbal_to_use]\n",
    "MassFraction_indx = [const.atom_dic[item][-1] for item in ionbal_to_use]"
   ]
  },
  {
   "cell_type": "code",
   "execution_count": 21,
   "metadata": {},
   "outputs": [
    {
     "data": {
      "text/plain": [
       "array([5.50501816e+19, 0.00000000e+00, 0.00000000e+00, 0.00000000e+00,\n",
       "       0.00000000e+00])"
      ]
     },
     "execution_count": 21,
     "metadata": {},
     "output_type": "execute_result"
    }
   ],
   "source": [
    "loss.MassFractions[500,MassFraction_indx] * loss.Mass[500] / ElementAtomicMass[:]"
   ]
  },
  {
   "cell_type": "code",
   "execution_count": 22,
   "metadata": {},
   "outputs": [],
   "source": [
    "ParticleNeutralHFraction = loss.ParticleNeutralHFraction\n",
    "ParticleMolecularHFraction = loss.ParticleMolecularHFraction"
   ]
  },
  {
   "cell_type": "code",
   "execution_count": 23,
   "metadata": {},
   "outputs": [
    {
     "name": "stderr",
     "output_type": "stream",
     "text": [
      "<ipython-input-23-61848e83ba78>:5: RuntimeWarning: divide by zero encountered in log10\n",
      "  ionizbal = np.log10(ionss)\n"
     ]
    }
   ],
   "source": [
    "NGas = len(Mass)\n",
    "ib_logt = logt_table\n",
    "ib_logd = logd_table\n",
    "ib_redshift =z_ranges_table\n",
    "ionizbal = np.log10(ionss)\n",
    "ion_elnr = MassFraction_indx \n",
    "nion = len(ionbal_to_use)\n",
    "nz = len(z_ranges_table)\n",
    "nznt = nz*len(ib_logt)"
   ]
  },
  {
   "cell_type": "code",
   "execution_count": 24,
   "metadata": {},
   "outputs": [],
   "source": [
    "n_ion     =  np.zeros((nion,nveloc))\n",
    "veloc_ion =  np.zeros((nion,nveloc))\n",
    "temp_ion  =  np.zeros((nion,nveloc))\n",
    "rho_ion   =  np.zeros((nion,nveloc))\n",
    "rho_tot   =  np.zeros(nveloc)\n",
    "temp_tot   =  np.zeros(nveloc)\n",
    "met_tot   =  np.zeros(nveloc)\n",
    "veloc_tot   =  np.zeros(nveloc)"
   ]
  },
  {
   "cell_type": "code",
   "execution_count": 25,
   "metadata": {},
   "outputs": [
    {
     "data": {
      "text/plain": [
       "6742"
      ]
     },
     "execution_count": 25,
     "metadata": {},
     "output_type": "execute_result"
    }
   ],
   "source": [
    "nveloc"
   ]
  },
  {
   "cell_type": "code",
   "execution_count": 26,
   "metadata": {},
   "outputs": [],
   "source": [
    "#blah = projectdata(Position, Velocity, ParticleSmoothingLength, ParticleDensity, ParticleTemperature, ParticleNeutralHFraction, ParticleMolecularHFraction,\n",
    "#Metallicity ,ib_redshift, ionizbal, loss.MassFractions , Mass, ElementAtomicMass , ion_elnr, x_physical, y_physical,zcurrent,simdata.BoxSize, simdata.ExpansionFactor, ib_logd, ib_logt,simdata.HubbleParam, nveloc, NGas, nion, nz, nznt)"
   ]
  },
  {
   "cell_type": "code",
   "execution_count": 27,
   "metadata": {},
   "outputs": [],
   "source": [
    "#here there could be an issue with the difference of indexing between python and fortran \n",
    "if (nz > 1):\n",
    "    if (not parameters.use_maxdens_above_zmax):\n",
    "        if (zcurrent < ib_redshift[0] or zcurrent > ib_redshift[-1]):\n",
    "            print(\"ERROR: Z out of bounds of the ion table!\")\n",
    "            sys.exit()\n",
    "    if(parameters.use_maxdens_above_zmax > ib_redshift[-1] and zcurrent > ib_redshift[-1]):\n",
    "        iz1 = nz -1\n",
    "        iz2 = nz\n",
    "        dz1 = 0\n",
    "        dz2 = 1.0\n",
    "    else:\n",
    "        iz2=1\n",
    "        while(zcurrent > ib_redshift[iz2]):\n",
    "            iz2 = iz2 =1\n",
    "        iz1 = iz2-1\n",
    "        dz1 = (ib_redshift[iz2] - zcurrent) / (ib_redshift[iz2] - ib_redshift[iz1])\n",
    "        dz2 = 1. -dz1"
   ]
  },
  {
   "cell_type": "code",
   "execution_count": 28,
   "metadata": {},
   "outputs": [],
   "source": [
    "zmingrid = 0\n",
    "zmaxgrid = (simdata.BoxSize*simdata.ExpansionFactor) / simdata.HubbleParam\n",
    "box      = zmaxgrid\n",
    "dzgrid   = (zmaxgrid - zmingrid) / nveloc\n",
    "dzinv    = 1. / dzgrid \n",
    "box_2    = 0.5 * box\n",
    "densscale = (simdata.ExpansionFactor/simdata.ExpansionFactor)**3\n",
    "ncontr= 0"
   ]
  },
  {
   "cell_type": "markdown",
   "metadata": {},
   "source": [
    "##  Fortran Way"
   ]
  },
  {
   "cell_type": "code",
   "execution_count": 29,
   "metadata": {},
   "outputs": [
    {
     "name": "stdout",
     "output_type": "stream",
     "text": [
      "It took 99.391096 seconds\n"
     ]
    }
   ],
   "source": [
    "t1 = time.time()\n",
    "for i in range(NGas):\n",
    "\n",
    "    xx      = Position_2[i,0]\n",
    "    yy      = Position_2[i,1]\n",
    "    zz      = Position_2[i,2]\n",
    "\n",
    "    hh      = ParticleSmoothingLength[i]\n",
    "    h2      = hh*hh\n",
    "    hinv2   = 1. / h2\n",
    "    hinv3   = hinv2 / hh\n",
    "\n",
    "    dx      = abs(xx - x_physical)\n",
    "    dy      = abs(yy - y_physical)\n",
    "\n",
    "    if(dx > box_2):\n",
    "        dx  = box - dx\n",
    "\n",
    "    if(dy > box_2):\n",
    "        dy = box - dy\n",
    "\n",
    "    b2    = dx*dx + dy*dy\n",
    "    b     = (b2)**0.5\n",
    "    impactparameter = b\n",
    "\n",
    "    if( impactparameter <= hh):\n",
    "\n",
    "    #    print(i)\n",
    "    #    print(hh)\n",
    "        ncontr = ncontr + 1\n",
    "\n",
    "        #Density\n",
    "\n",
    "        Density = ParticleDensity[i]\n",
    "\n",
    "        if(Density < 0):\n",
    "            print(\"ERROR:  Negative Density\")\n",
    "\n",
    "        Density = Density * densscale\n",
    "        log_dens = np.log10(Density)\n",
    "\n",
    "        log_temp = np.log10(ParticleTemperature[i])\n",
    "        ionfrac = computeib(ib_redshift[iz1],ib_redshift[iz2],iz1, iz2, dz1, dz2, log_temp, log_dens, ib_logd, ionizbal, ib_logt, nz, nznt\n",
    "                           ,parameters.use_fitted_ibfactor,parameters.ibfactor)\n",
    "        \n",
    "        #TO DO: URCHIN\n",
    "        \n",
    "        if parameters.aurora:\n",
    "            ionfrac[0] = loss.ParticleNeutralHFraction[i]\n",
    "        #TO DO : if Ioncracone\n",
    "        #else:\n",
    "        totnr_ion = ionfrac[:] * loss.MassFractions[i,ion_elnr[:]] * Mass[i] / ElementAtomicMass[:]\n",
    "        #Peculiar Velocities\n",
    "        if parameters.NoPecVel:\n",
    "            vr = 0\n",
    "        else:\n",
    "            vr = Velocity[i,los_long_axis]\n",
    "\n",
    "        #Central Pixel \n",
    "        iz = int((zz - zmingrid) * dzinv + 1)\n",
    "        \n",
    "        #contribute to projection segment\n",
    "\n",
    "        dzmax = np.sqrt(np.abs(h2 - b2))\n",
    "        ioff  = int(dzmax * dzinv) + 1\n",
    "        \n",
    "        #print(i,zz,iz)\n",
    "        iizg  = iz+ioff\n",
    "        for iiz in range(iz-ioff,iizg):\n",
    "            j = iiz\n",
    "            j = np.mod(j+10*nveloc,nveloc)\n",
    "            zzgrid = zmingrid + (j-0.5)*dzgrid \n",
    "            deltaz = abs(zzgrid - zz)\n",
    "            \n",
    "            if (deltaz > box_2):\n",
    "                deltaz = box - deltaz\n",
    "            \n",
    "            dr2 = b2 + deltaz**2\n",
    "            zf = deltaz + dzgrid*0.5\n",
    "            zi = deltaz - dzgrid*0.5\n",
    "            \n",
    "            q = np.sqrt(dr2 * hinv2) # q = r/h \n",
    "            \n",
    "            if (q < 0.5):\n",
    "                kernel_factor = (1.+6*q**2*(q-1))\n",
    "            \n",
    "            elif ( q < 1):\n",
    "                kernel_factor = 2.*(1-q)**3\n",
    "       \n",
    "                \n",
    "            else:\n",
    "                kernel_factor = 0 \n",
    "            kernel_factor = (kernel_factor * 8. * hinv3) / np.pi\n",
    "            if kernel_factor > 0:\n",
    "                n_ion[:,j]      = n_ion[:,j]     + kernel_factor * totnr_ion[:]\n",
    "                veloc_ion[:,j]  = veloc_ion[:,j] + kernel_factor * totnr_ion[:] * vr\n",
    "                temp_ion[:,j]   = temp_ion[:,j]  + kernel_factor * totnr_ion[:] * loss.ParticleTemperature[i]\n",
    "                rho_ion[:,j]    = rho_ion[:,j]   + kernel_factor * Density * const.atomi_munit / loss.MassFractions[i,0]\n",
    "                rho_tot[j]      = rho_tot[j]     + kernel_factor * Mass[i]\n",
    "                veloc_tot[j]    = veloc_tot[j]   + kernel_factor * Mass[i] * vr\n",
    "                temp_tot[j]     = temp_tot[j]    + kernel_factor * Mass[i] * loss.ParticleTemperature[i]\n",
    "                met_tot[j]      = met_tot[j]     + kernel_factor * Mass[i] * loss.Metallicity[i]\n",
    "t2 = time.time()\n",
    "print(\"It took %f seconds\" % (t2-t1))"
   ]
  },
  {
   "cell_type": "code",
   "execution_count": null,
   "metadata": {},
   "outputs": [],
   "source": []
  },
  {
   "cell_type": "code",
   "execution_count": 30,
   "metadata": {
    "scrolled": true
   },
   "outputs": [],
   "source": [
    "hhh = h5.File(\"../rhotot_los_1.hdf5\", 'r')"
   ]
  },
  {
   "cell_type": "code",
   "execution_count": 31,
   "metadata": {},
   "outputs": [
    {
     "data": {
      "text/plain": [
       "[<matplotlib.lines.Line2D at 0x7f49e5b4fdf0>]"
      ]
     },
     "execution_count": 31,
     "metadata": {},
     "output_type": "execute_result"
    },
    {
     "data": {
      "image/png": "[encoded data removed]",
      "text/plain": [
       "<Figure size 432x288 with 1 Axes>"
      ]
     },
     "metadata": {
      "needs_background": "light"
     },
     "output_type": "display_data"
    }
   ],
   "source": [
    "plt.plot(rho_tot*6.76991130339558456e-41,\"-.\")\n",
    "plt.plot(hhh['rho_tot($i)'][...],'-.')"
   ]
  },
  {
   "cell_type": "code",
   "execution_count": 32,
   "metadata": {},
   "outputs": [
    {
     "data": {
      "text/plain": [
       "[<matplotlib.lines.Line2D at 0x7f49dd395370>]"
      ]
     },
     "execution_count": 32,
     "metadata": {},
     "output_type": "execute_result"
    },
    {
     "data": {
      "image/png": "[encoded data removed]",
      "text/plain": [
       "<Figure size 432x288 with 1 Axes>"
      ]
     },
     "metadata": {
      "needs_background": "light"
     },
     "output_type": "display_data"
    }
   ],
   "source": [
    "relativ_dif = (rho_tot*6.76991130339558456e-41-hhh['rho_tot($i)'][...])/np.average(hhh['rho_tot($i)'][...])\n",
    "hist,bins = np.histogram(relativ_dif,bins=100)\n",
    "bins_c = 0.5 * (bins[0:-1]+bins[1:])\n",
    "plt.plot(bins_c,hist)"
   ]
  },
  {
   "cell_type": "markdown",
   "metadata": {},
   "source": [
    "## Pythonize "
   ]
  },
  {
   "cell_type": "code",
   "execution_count": 33,
   "metadata": {},
   "outputs": [],
   "source": [
    "n_ion     =  np.zeros((nion,nveloc))\n",
    "veloc_ion =  np.zeros((nion,nveloc))\n",
    "temp_ion  =  np.zeros((nion,nveloc))\n",
    "rho_ion   =  np.zeros((nion,nveloc))\n",
    "rho_tot   =  np.zeros(nveloc)\n",
    "temp_tot   =  np.zeros(nveloc)\n",
    "met_tot   =  np.zeros(nveloc)\n",
    "veloc_tot   =  np.zeros(nveloc)"
   ]
  },
  {
   "cell_type": "code",
   "execution_count": 38,
   "metadata": {},
   "outputs": [
    {
     "name": "stdout",
     "output_type": "stream",
     "text": [
      "It took 8.217322 seconds\n"
     ]
    }
   ],
   "source": [
    "t1 = time.time()\n",
    "h2 = ParticleSmoothingLength**2\n",
    "hinv2 = np.power(h2,-1)\n",
    "hh      = ParticleSmoothingLength\n",
    "hinv3 = hinv2 / ParticleSmoothingLength\n",
    "\n",
    "dx = abs(Position_2[:,0] - x_physical)\n",
    "dy = abs(Position_2[:,1] - y_physical)\n",
    "\n",
    "zz = Position_2[:,2]\n",
    "dx[dx > box_2] = box - dx[dx > box_2]\n",
    "dy[dy > box_2] = box - dy[dy > box_2]\n",
    "\n",
    "b2 = dx*dx + dy*dy\n",
    "b = impactparameter = np.power(b2,0.5)\n",
    "\n",
    "particle_mask = np.where(impactparameter <= hh)\n",
    "\n",
    "if parameters.NoPecVel:\n",
    "    vr = 0\n",
    "else:\n",
    "    vr = Velocity[i,los_long_axis]\n",
    "\n",
    "Density = ParticleDensity[particle_mask] * densscale\n",
    "\n",
    "log_dens = np.log10(Density)\n",
    "log_temp = np.log10(ParticleTemperature[particle_mask])\n",
    "\n",
    "ionfrac = [computeib(ib_redshift[iz1],ib_redshift[iz2],iz1, iz2, dz1, dz2, log_temp[i], log_dens[i], ib_logd, ionizbal, ib_logt, nz, nznt,parameters.use_fitted_ibfactor,parameters.ibfactor) for i in range(len(log_temp))]\n",
    "\n",
    "\n",
    "iz = np.array((zz - zmingrid) * dzinv + 1).astype(int)\n",
    "\n",
    "#contribute to projection segment\n",
    "\n",
    "dzmax = np.sqrt(np.abs(h2 - b2))\n",
    "\n",
    "ioff  = np.array(dzmax * dzinv).astype(int) + 1\n",
    "\n",
    "\n",
    "iizg  = iz+ioff\n",
    "iizi  = iz-ioff\n",
    "\n",
    "\n",
    "\n",
    "totnr_ion = ionfrac*loss.MassFractions[:,ion_elnr[:]][particle_mask,:][0] * Mass[particle_mask][:, None] / ElementAtomicMass[:]\n",
    "\n",
    "j = [list(range(iizi[i],iizg[i])) for i in range(len(iizi))]\n",
    "\n",
    "for i,jj in enumerate(j):\n",
    "    \n",
    "    k = np.mod(np.array(jj)+10*nveloc,nveloc)\n",
    "    \n",
    "    zzgrid = zmingrid + (k - 0.5)*dzgrid\n",
    "    deltaz = abs(zzgrid - zz[i])\n",
    "    \n",
    "    deltaz[deltaz > box_2] = box - deltaz[deltaz > box_2] \n",
    "    dr2 = b2[i] + deltaz**2\n",
    "    zf = deltaz + dzgrid*0.5\n",
    "    zi = deltaz - dzgrid*0.5\n",
    "    q = np.sqrt(dr2 * hinv2[i])\n",
    "    \n",
    "    kernel_factor = np.zeros(np.shape(q))\n",
    "    kernel_factor[q<0.5] = (1.+6*q[q<0.5]**2*(q[q<0.5]-1))\n",
    "    kernel_factor[(0.5 < q) & (q < 1)] = 2.*(1-q[(0.5 < q) & (q < 1)])**3\n",
    "\n",
    "    kernel_factor = (kernel_factor * 8. * hinv3[i]) / np.pi\n",
    "    \n",
    "    n_ion[:,k[kernel_factor>0]]      = n_ion[:,k[kernel_factor>0]]     + kernel_factor[kernel_factor>0] * totnr_ion[i,:,None]\n",
    "    veloc_ion[:,k[kernel_factor>0]]  = veloc_ion[:,k[kernel_factor>0]] + kernel_factor[kernel_factor>0] * totnr_ion[i,:,None] * vr\n",
    "    temp_ion[:,k[kernel_factor>0]]   = temp_ion[:,k[kernel_factor>0]]  + kernel_factor[kernel_factor>0] * totnr_ion[i,:,None] * loss.ParticleTemperature[i]\n",
    "    rho_ion[:,k[kernel_factor>0]]    = rho_ion[:,k[kernel_factor>0]]   + kernel_factor[kernel_factor>0] * Density[i] * const.atomi_munit / loss.MassFractions[i,0]\n",
    "    rho_tot[k[kernel_factor>0]]      = rho_tot[k[kernel_factor>0]]     + kernel_factor[kernel_factor>0] * Mass[i]\n",
    "    veloc_tot[k[kernel_factor>0]]    = veloc_tot[k[kernel_factor>0]]   + kernel_factor[kernel_factor>0] * Mass[i] * vr\n",
    "    temp_tot[k[kernel_factor>0]]     = temp_tot[k[kernel_factor>0]]    + kernel_factor[kernel_factor>0] * Mass[i] * loss.ParticleTemperature[i]\n",
    "    met_tot[k[kernel_factor>0]]      = met_tot[k[kernel_factor>0]]     + kernel_factor[kernel_factor>0] * Mass[i] * loss.Metallicity[i]\n",
    "\n",
    "\n",
    "t2 = time.time()\n",
    "print(\"It took %f seconds\" % (t2-t1))"
   ]
  },
  {
   "cell_type": "code",
   "execution_count": 36,
   "metadata": {},
   "outputs": [
    {
     "data": {
      "text/plain": [
       "[<matplotlib.lines.Line2D at 0x7f49dd315190>]"
      ]
     },
     "execution_count": 36,
     "metadata": {},
     "output_type": "execute_result"
    },
    {
     "data": {
      "image/png": "[encoded data removed]",
      "text/plain": [
       "<Figure size 432x288 with 1 Axes>"
      ]
     },
     "metadata": {
      "needs_background": "light"
     },
     "output_type": "display_data"
    }
   ],
   "source": [
    "plt.plot(rho_tot*6.76991130339558456e-41,\"-.\")\n",
    "plt.plot(hhh['rho_tot($i)'][...],'-.')"
   ]
  },
  {
   "cell_type": "code",
   "execution_count": 37,
   "metadata": {},
   "outputs": [
    {
     "data": {
      "text/plain": [
       "[<matplotlib.lines.Line2D at 0x7f49dc22e5e0>]"
      ]
     },
     "execution_count": 37,
     "metadata": {},
     "output_type": "execute_result"
    },
    {
     "data": {
      "image/png": "[encoded data removed]",
      "text/plain": [
       "<Figure size 432x288 with 1 Axes>"
      ]
     },
     "metadata": {
      "needs_background": "light"
     },
     "output_type": "display_data"
    }
   ],
   "source": [
    "relativ_dif = (rho_tot*6.76991130339558456e-41-hhh['rho_tot($i)'][...])/np.average(hhh['rho_tot($i)'][...])\n",
    "hist,bins = np.histogram(relativ_dif,bins=100)\n",
    "bins_c = 0.5 * (bins[0:-1]+bins[1:])\n",
    "plt.plot(bins_c,hist)"
   ]
  },
  {
   "cell_type": "markdown",
   "metadata": {},
   "source": [
    "## Pythonized (scipy inter func) "
   ]
  },
  {
   "cell_type": "code",
   "execution_count": 46,
   "metadata": {},
   "outputs": [],
   "source": [
    "def Interp3D(indata, z,t,dens, value_array, verbose = 0, order=0 ):                                                                                                                                                                                                                                                       \n",
    "                                                                                                                                                                                                                                                                     \n",
    "    lo  = np.array([dens[0],t[0],z[0]])                                                                                                                                                                                                                                                                                \n",
    "    hi  = np.array([dens[-1],t[-1],z[-1]])                                                                                                                                                                                                                                                                            \n",
    "                                                                                                                                                                                                                                                                                                                              \n",
    "    theMaps = [ None, None,z[:]];                                                                                                                                                                                                                                                                                     \n",
    "    interfunc = Intergrid( indata, lo=lo, hi=hi, maps= theMaps, prefilter=True, verbose = verbose,order=order );  \n",
    "    return interfunc.at( value_array );"
   ]
  },
  {
   "cell_type": "code",
   "execution_count": 47,
   "metadata": {},
   "outputs": [],
   "source": [
    "n_ion     =  np.zeros((nion,nveloc))\n",
    "veloc_ion =  np.zeros((nion,nveloc))\n",
    "temp_ion  =  np.zeros((nion,nveloc))\n",
    "rho_ion   =  np.zeros((nion,nveloc))\n",
    "rho_tot   =  np.zeros(nveloc)\n",
    "temp_tot   =  np.zeros(nveloc)\n",
    "met_tot   =  np.zeros(nveloc)\n",
    "veloc_tot   =  np.zeros(nveloc)"
   ]
  },
  {
   "cell_type": "code",
   "execution_count": 48,
   "metadata": {},
   "outputs": [
    {
     "name": "stdout",
     "output_type": "stream",
     "text": [
      "h1 Ionization table loaded\n",
      "n2 Ionization table loaded\n",
      "n5 Ionization table loaded\n",
      "ne8 Ionization table loaded\n",
      "si2 Ionization table loaded\n"
     ]
    }
   ],
   "source": [
    "ionss = []\n",
    "first_iteration = True\n",
    "\n",
    "for ion_file in ionbal_to_use:\n",
    "    with h5.File(parameters.ibdir+ion_file+\".hdf5\",\"r\") as f:\n",
    "        if first_iteration:\n",
    "            z_ranges_table = f[\"/redshift\"][...]\n",
    "            logt_table = f[\"/logt\"][...]\n",
    "            logd_table = f[\"/logd\"][...]\n",
    "            first_iteration = False\n",
    "\n",
    "        ionss.append(f[\"/ionbal\"][...])\n",
    "        print(ion_file+' Ionization table loaded')"
   ]
  },
  {
   "cell_type": "code",
   "execution_count": 49,
   "metadata": {
    "scrolled": true
   },
   "outputs": [
    {
     "name": "stdout",
     "output_type": "stream",
     "text": [
      "It took 6.962248 seconds\n"
     ]
    }
   ],
   "source": [
    "t1 = time.time()\n",
    "h2 = ParticleSmoothingLength**2\n",
    "hinv2 = np.power(h2,-1)\n",
    "hh      = ParticleSmoothingLength\n",
    "hinv3 = hinv2 / ParticleSmoothingLength\n",
    "\n",
    "dx = abs(Position_2[:,0] - x_physical)\n",
    "dy = abs(Position_2[:,1] - y_physical)\n",
    "\n",
    "dx[dx > box_2] = box - dx[dx > box_2]\n",
    "dy[dy > box_2] = box - dy[dy > box_2]\n",
    "\n",
    "zz = Position_2[:,2]\n",
    "\n",
    "\n",
    "b2 = dx*dx + dy*dy\n",
    "b = impactparameter = np.power(b2,0.5)\n",
    "\n",
    "particle_mask = np.where(impactparameter <= hh)\n",
    "\n",
    "if True:#parameters.NoPecVel:\n",
    "    vr = 0\n",
    "else:\n",
    "    vr = Velocity[:,los_long_axis]\n",
    "\n",
    "\n",
    "Density = ParticleDensity[particle_mask] * densscale\n",
    "\n",
    "log_dens = np.log10(Density)\n",
    "log_temp = np.log10(ParticleTemperature[particle_mask])\n",
    "zarray = zcurrent*np.ones(len(log_temp))                                                                                                                                                                                                                                                                                            \n",
    "iinput = np.array([log_dens,log_temp,zarray]).T\n",
    "\n",
    "\n",
    "iz = np.array((zz - zmingrid) * dzinv + 1).astype(int)\n",
    "\n",
    "#contribute to projection segment\n",
    "\n",
    "dzmax = np.sqrt(np.abs(h2 - b2))\n",
    "\n",
    "ioff  = np.array(dzmax * dzinv).astype(int) + 1\n",
    "\n",
    "\n",
    "iizg  = iz+ioff\n",
    "iizi  = iz-ioff\n",
    "#ionfrac = [computeib(ib_redshift[iz1],ib_redshift[iz2],iz1, iz2, dz1, dz2, log_temp[i], log_dens[i], ib_logd, ionizbal, ib_logt, nz, nznt) for i in range(len(log_temp))]\n",
    "\n",
    "des = [Interp3D(ionss[ll],z_ranges_table,logt_table,logd_table,iinput,verbose=0, order=1) for ll in range(len(ionss))]\n",
    "ionfrac = np.transpose(des)\n",
    "totnr_ion = ionfrac*loss.MassFractions[:,ion_elnr[:]][particle_mask,:][0] * Mass[particle_mask][:, None] / ElementAtomicMass[:]\n",
    "\n",
    "j = [list(range(iizi[i],iizg[i])) for i in range(len(iizi))]\n",
    "\n",
    "for i,jj in enumerate(j):\n",
    "    chunks = np.mod(np.array(jj)+10*nveloc,nveloc)\n",
    "    zzgrid = zmingrid + (chunks - 0.5)*dzgrid\n",
    "    deltaz = abs(zzgrid - zz[i])\n",
    "    \n",
    "    deltaz[deltaz > box_2] = box - deltaz[deltaz > box_2] \n",
    "    \n",
    "    dr2 = b2[i] + deltaz**2\n",
    "    zf = deltaz + dzgrid*0.5\n",
    "    zi = deltaz - dzgrid*0.5\n",
    "    q = np.sqrt(dr2 * hinv2[i])\n",
    "    \n",
    "    kernel_factor = np.zeros(np.shape(q))\n",
    "    q0p5 = q<0.5\n",
    "    q1   = q<1\n",
    "    kernel_factor[q0p5] = (1.+6*q[q0p5]**2*(q[q0p5]-1))\n",
    "    kernel_factor[(q0p5) & (q1)] = 2.*(1-q[(q0p5) & (q1)])**3\n",
    "\n",
    "    kernel_factor = (kernel_factor * 8. * hinv3[i]) / np.pi\n",
    "    krnl_cond = kernel_factor>0\n",
    "    \n",
    "    n_ion[:,chunks[krnl_cond]]      = n_ion[:,chunks[krnl_cond]]     + kernel_factor[krnl_cond] * totnr_ion[i,:,None]\n",
    "    veloc_ion[:,chunks[krnl_cond]]  = veloc_ion[:,chunks[krnl_cond]] + kernel_factor[krnl_cond] * totnr_ion[i,:,None] * vr\n",
    "    temp_ion[:,chunks[krnl_cond]]   = temp_ion[:,chunks[krnl_cond]]  + kernel_factor[krnl_cond] * totnr_ion[i,:,None] * loss.ParticleTemperature[i]\n",
    "    rho_ion[:,chunks[krnl_cond]]    = rho_ion[:,chunks[krnl_cond]]   + kernel_factor[krnl_cond] * Density[i] * const.atomi_munit / loss.MassFractions[i,0]\n",
    "    rho_tot[chunks[krnl_cond]]      = rho_tot[chunks[krnl_cond]]     + kernel_factor[krnl_cond] * Mass[i]\n",
    "    veloc_tot[chunks[krnl_cond]]    = veloc_tot[chunks[krnl_cond]]   + kernel_factor[krnl_cond] * Mass[i] * vr\n",
    "    temp_tot[chunks[krnl_cond]]     = temp_tot[chunks[krnl_cond]]    + kernel_factor[krnl_cond] * Mass[i] * loss.ParticleTemperature[i]\n",
    "    met_tot[chunks[krnl_cond]]      = met_tot[chunks[krnl_cond]]     + kernel_factor[krnl_cond] * Mass[i] * loss.Metallicity[i]\n",
    "\n",
    "\n",
    "\n",
    "\n",
    "t2 = time.time()\n",
    "print(\"It took %f seconds\" % (t2-t1))"
   ]
  },
  {
   "cell_type": "code",
   "execution_count": 50,
   "metadata": {},
   "outputs": [],
   "source": [
    "loss.rho_tot = rho_tot*6.76991130339558456e-41"
   ]
  },
  {
   "cell_type": "code",
   "execution_count": 51,
   "metadata": {},
   "outputs": [],
   "source": [
    "loss.n_ion = n_ion\n",
    "loss.veloc_ion = veloc_ion \n",
    "loss.temp_ion = temp_ion\n",
    "loss.rho_ion  = rho_ion\n",
    "loss.veloc_tot = veloc_tot\n",
    "loss.temp_tot = temp_tot\n",
    "loss.met_tot = met_tot"
   ]
  },
  {
   "cell_type": "code",
   "execution_count": 52,
   "metadata": {},
   "outputs": [],
   "source": [
    "hhh = h5.File(\"../rhotot_los_1.hdf5\", 'r')"
   ]
  },
  {
   "cell_type": "code",
   "execution_count": 53,
   "metadata": {},
   "outputs": [
    {
     "data": {
      "text/plain": [
       "[<matplotlib.lines.Line2D at 0x7f6b6d400d90>]"
      ]
     },
     "execution_count": 53,
     "metadata": {},
     "output_type": "execute_result"
    },
    {
     "data": {
      "image/png": "[encoded data removed]",
      "text/plain": [
       "<Figure size 432x288 with 1 Axes>"
      ]
     },
     "metadata": {
      "needs_background": "light"
     },
     "output_type": "display_data"
    }
   ],
   "source": [
    "plt.plot(loss.rho_tot,\"-.\")\n",
    "plt.plot(hhh['rho_tot($i)'][...],'-.')"
   ]
  },
  {
   "cell_type": "code",
   "execution_count": 54,
   "metadata": {},
   "outputs": [
    {
     "data": {
      "text/plain": [
       "[<matplotlib.lines.Line2D at 0x7f6b63225cd0>]"
      ]
     },
     "execution_count": 54,
     "metadata": {},
     "output_type": "execute_result"
    },
    {
     "data": {
      "image/png": "[encoded data removed]",
      "text/plain": [
       "<Figure size 432x288 with 1 Axes>"
      ]
     },
     "metadata": {
      "needs_background": "light"
     },
     "output_type": "display_data"
    }
   ],
   "source": [
    "relativ_dif = (loss.rho_tot-hhh['rho_tot($i)'][...])/np.average(hhh['rho_tot($i)'][...])\n",
    "hist,bins = np.histogram(relativ_dif,bins=100)\n",
    "bins_c = 0.5 * (bins[0:-1]+bins[1:])\n",
    "plt.plot(bins_c,hist)"
   ]
  },
  {
   "cell_type": "code",
   "execution_count": 35,
   "metadata": {},
   "outputs": [
    {
     "data": {
      "text/plain": [
       "False"
      ]
     },
     "execution_count": 35,
     "metadata": {},
     "output_type": "execute_result"
    }
   ],
   "source": [
    "parameters.NoPecVel"
   ]
  },
  {
   "cell_type": "code",
   "execution_count": 50,
   "metadata": {},
   "outputs": [
    {
     "data": {
      "text/plain": [
       "[152, 153, 154, 155, 156, 157, 158, 159, 160, 161, 162, 163, 164, 165]"
      ]
     },
     "execution_count": 50,
     "metadata": {},
     "output_type": "execute_result"
    }
   ],
   "source": [
    "j[0]"
   ]
  },
  {
   "cell_type": "code",
   "execution_count": null,
   "metadata": {},
   "outputs": [],
   "source": []
  }
 ],
 "metadata": {
  "kernelspec": {
   "display_name": "Python 3",
   "language": "python",
   "name": "python3"
  },
  "language_info": {
   "codemirror_mode": {
    "name": "ipython",
    "version": 3
   },
   "file_extension": ".py",
   "mimetype": "text/x-python",
   "name": "python",
   "nbconvert_exporter": "python",
   "pygments_lexer": "ipython3",
   "version": "3.9.1"
  }
 },
 "nbformat": 4,
 "nbformat_minor": 2
}
