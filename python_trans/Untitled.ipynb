{
 "cells": [
  {
   "cell_type": "code",
   "execution_count": 1,
   "metadata": {},
   "outputs": [
    {
     "name": "stdout",
     "output_type": "stream",
     "text": [
      "This is saying the use snapshot file is True\n"
     ]
    },
    {
     "name": "stderr",
     "output_type": "stream",
     "text": [
      "/cosma/local/Python/2.7.15/lib/python2.7/site-packages/h5py/__init__.py:75: UserWarning: h5py is running against HDF5 1.10.3 when it was built against 1.8.4, this may cause problems\n",
      "  '{0}.{1}.{2}'.format(*version.hdf5_built_version_tuple)\n"
     ]
    }
   ],
   "source": [
    "import numpy as np\n",
    "import h5py as h5\n",
    "import sys\n",
    "import physical_data as const\n",
    "from read_parameter_file import read_params"
   ]
  },
  {
   "cell_type": "code",
   "execution_count": 2,
   "metadata": {},
   "outputs": [],
   "source": [
    "parameters = read_params('dummy.par')"
   ]
  },
  {
   "cell_type": "code",
   "execution_count": 3,
   "metadata": {},
   "outputs": [],
   "source": [
    "ions_to_do = which_ions_to_do = [parameters.doH1,parameters.doHe2,parameters.doC2,\n",
    "parameters.doC3,parameters.doC4,parameters.doN2,parameters.doN3,parameters.doN4,\n",
    "parameters.doN5,parameters.doO1,parameters.doO3,parameters.doO4,parameters.doO5,\n",
    "parameters.doO6,parameters.doO7,parameters.doMg2,parameters.doNe8,parameters.doAl2,\n",
    "parameters.doAl3,parameters.doSi2,parameters.doSi3,parameters.doSi4,parameters.doS5,\n",
    "parameters.doFe2,parameters.doFe3,parameters.do21cm]"
   ]
  },
  {
   "cell_type": "code",
   "execution_count": 4,
   "metadata": {},
   "outputs": [
    {
     "data": {
      "text/plain": [
       "[True,\n",
       " False,\n",
       " False,\n",
       " False,\n",
       " False,\n",
       " True,\n",
       " False,\n",
       " False,\n",
       " True,\n",
       " False,\n",
       " False,\n",
       " False,\n",
       " False,\n",
       " False,\n",
       " False,\n",
       " False,\n",
       " True,\n",
       " False,\n",
       " False,\n",
       " True,\n",
       " False,\n",
       " False,\n",
       " True,\n",
       " False,\n",
       " False,\n",
       " False]"
      ]
     },
     "execution_count": 4,
     "metadata": {},
     "output_type": "execute_result"
    }
   ],
   "source": [
    "ions_to_do"
   ]
  },
  {
   "cell_type": "code",
   "execution_count": 6,
   "metadata": {},
   "outputs": [],
   "source": [
    "ionbal_names = np.array([\"h1\",\"he2\",\"c2\",\"c3\",\"c4\",\"n2\",\"n3\",\"n4\",\"n5\",\"o1\",\"o3\",\"o4\",\"o5\",\"o6\",  #This elements of this list must be in the same order as\n",
    "                \"o7\",\"mg2\",\"ne8\",\"al2\",\"al3\",\"si2\",\"si3\",\"si4\",\"s5\",\"fe2\",\"fe3\",\"21cm\"]) "
   ]
  },
  {
   "cell_type": "code",
   "execution_count": 7,
   "metadata": {},
   "outputs": [
    {
     "data": {
      "text/plain": [
       "array(['h1', 'he2', 'c2', 'c3', 'c4', 'n2', 'n3', 'n4', 'n5', 'o1', 'o3',\n",
       "       'o4', 'o5', 'o6', 'o7', 'mg2', 'ne8', 'al2', 'al3', 'si2', 'si3',\n",
       "       'si4', 's5', 'fe2', 'fe3', '21cm'], dtype='|S4')"
      ]
     },
     "execution_count": 7,
     "metadata": {},
     "output_type": "execute_result"
    }
   ],
   "source": [
    "ionbal_names"
   ]
  },
  {
   "cell_type": "code",
   "execution_count": 8,
   "metadata": {},
   "outputs": [],
   "source": [
    "ionbal_to_use = ionbal_names[ions_to_do]"
   ]
  },
  {
   "cell_type": "code",
   "execution_count": 9,
   "metadata": {},
   "outputs": [
    {
     "data": {
      "text/plain": [
       "array(['h1', 'n2', 'n5', 'ne8', 'si2', 's5'], dtype='|S4')"
      ]
     },
     "execution_count": 9,
     "metadata": {},
     "output_type": "execute_result"
    }
   ],
   "source": [
    "ionbal_to_use"
   ]
  },
  {
   "cell_type": "code",
   "execution_count": 10,
   "metadata": {},
   "outputs": [
    {
     "name": "stdout",
     "output_type": "stream",
     "text": [
      "h1 Ionization table loaded\n",
      "n2 Ionization table loaded\n",
      "n5 Ionization table loaded\n",
      "ne8 Ionization table loaded\n",
      "si2 Ionization table loaded\n",
      "s5 Ionization table loaded\n"
     ]
    }
   ],
   "source": [
    "ionss = []\n",
    "first_iteration = True\n",
    "for ion_file in ionbal_to_use:\n",
    "    with h5.File(parameters.ibdir+ion_file+\".hdf5\",\"r\") as f:\n",
    "        if first_iteration:\n",
    "            first_iteration = False\n",
    "            z_ranges_table = f[\"/redshift\"][...]\n",
    "            logt_table = f[\"/logt\"][...]\n",
    "            logd_talbe = f[\"/logd\"][...]\n",
    "        print(ion_file+' Ionization table loaded')\n",
    "        ionss.append([ion_file,f[\"/ionbal\"][...]])"
   ]
  },
  {
   "cell_type": "code",
   "execution_count": 23,
   "metadata": {},
   "outputs": [
    {
     "data": {
      "text/plain": [
       "'/cosma5/data/dp004/dc-wije1/bertone_tables/ionbal/'"
      ]
     },
     "execution_count": 23,
     "metadata": {},
     "output_type": "execute_result"
    }
   ],
   "source": [
    "parameters.ibdir"
   ]
  },
  {
   "cell_type": "code",
   "execution_count": 26,
   "metadata": {},
   "outputs": [
    {
     "data": {
      "text/plain": [
       "array([0.    , 0.0491, 0.1006, 0.1547, 0.2114, 0.2709, 0.3333, 0.3988,\n",
       "       0.4675, 0.5396, 0.6152, 0.6945, 0.7778, 0.8651, 0.9567, 1.053 ,\n",
       "       1.154 , 1.259 , 1.37  , 1.487 , 1.609 , 1.737 , 1.871 , 2.013 ,\n",
       "       2.16  , 2.316 , 2.479 , 2.649 , 2.829 , 3.017 , 3.214 , 3.421 ,\n",
       "       3.638 , 3.866 , 4.105 , 4.356 , 4.619 , 4.895 , 5.184 , 5.488 ,\n",
       "       5.807 , 6.141 , 6.492 , 6.859 , 7.246 , 7.65  , 8.075 , 8.521 ,\n",
       "       8.989 ], dtype=float32)"
      ]
     },
     "execution_count": 26,
     "metadata": {},
     "output_type": "execute_result"
    }
   ],
   "source": [
    "z_ranges_table"
   ]
  },
  {
   "cell_type": "code",
   "execution_count": null,
   "metadata": {},
   "outputs": [],
   "source": [
    "def parsebool(str):\n",
    "    str = str.strip()\n",
    "    if str in ['true', 'True', 't', 'T', '1']:\n",
    "        out = True\n",
    "    elif str in ['false', 'False', 'f', 'F', '0']:\n",
    "        out = False\n",
    "    else:\n",
    "        raise ValueError('Could not parse string {} as a boolean'.format(str))\n",
    "    return out\n",
    "values = [parsebool(data[i]) if datatypes[i] == bool else\\\n",
    "                (datatypes[i](data[i])) for i in range(len(data))]"
   ]
  },
  {
   "cell_type": "code",
   "execution_count": 25,
   "metadata": {},
   "outputs": [],
   "source": [
    "class read_params(object):\n",
    "    \"\"\"\n",
    "    Read the parameter file.\n",
    "    \"\"\"\n",
    "    \n",
    "    \n",
    "    \n",
    "    def __init__(self, par_file):\n",
    "        def parsebool(str):\n",
    "            str = str.strip()\n",
    "            if str in ['true', 'True', 't', 'T', '1']:\n",
    "                out = True\n",
    "            elif str in ['false', 'False', 'f', 'F', '0']:\n",
    "                out = False\n",
    "            else:\n",
    "                raise ValueError('Could not parse string {} as a boolean'.format(str))\n",
    "            return out\n",
    "\n",
    "        with open(par_file, 'r') as input_file:\n",
    "            for line in input_file:\n",
    "                try:\n",
    "                    row = line.split()\n",
    "                    if len(row)==0 or list(row)[0][0] == \"#\":\n",
    "                        continue\n",
    "                    label = row[0]\n",
    "                    data = row[1:]  # rest of row is data list\n",
    "                    attr = label_attr_map[label][0]\n",
    "                    datatypes = label_attr_map[label][1:]\n",
    "\n",
    "                    values = [parsebool(data[i]) if datatypes[i] == bool else\\\n",
    "                                    (datatypes[i](data[i])) for i in range(len(data))]\n",
    "                    self.__dict__[attr] = values if len(values) > 1 else values[0]\n",
    "                except:\n",
    "                    print('Error at parameter file in : '+line)"
   ]
  },
  {
   "cell_type": "code",
   "execution_count": 6,
   "metadata": {},
   "outputs": [],
   "source": [
    "def parsebool(str):\n",
    "    str = str.strip()\n",
    "    if str in ['true', 'True', 't', 'T', '1']:\n",
    "        out = True\n",
    "    elif str in ['false', 'False', 'f', 'F', '0']:\n",
    "        out = False\n",
    "    else:\n",
    "        raise ValueError('Could not parse string {} as a boolean'.format(str))\n",
    "    return out"
   ]
  },
  {
   "cell_type": "code",
   "execution_count": 8,
   "metadata": {},
   "outputs": [
    {
     "ename": "NameError",
     "evalue": "name 'self' is not defined",
     "output_type": "error",
     "traceback": [
      "\u001b[0;31m---------------------------------------------------------------------------\u001b[0m",
      "\u001b[0;31mNameError\u001b[0m                                 Traceback (most recent call last)",
      "\u001b[0;32m<ipython-input-8-e180b7fab28c>\u001b[0m in \u001b[0;36m<module>\u001b[0;34m()\u001b[0m\n\u001b[1;32m     11\u001b[0m \u001b[0;31m#                    values = [(datatypes[i](data[i])) for i in range(len(data))]\u001b[0m\u001b[0;34m\u001b[0m\u001b[0;34m\u001b[0m\u001b[0m\n\u001b[1;32m     12\u001b[0m             \u001b[0mvalues\u001b[0m \u001b[0;34m=\u001b[0m \u001b[0;34m[\u001b[0m\u001b[0mparsebool\u001b[0m\u001b[0;34m(\u001b[0m\u001b[0mdata\u001b[0m\u001b[0;34m[\u001b[0m\u001b[0mi\u001b[0m\u001b[0;34m]\u001b[0m\u001b[0;34m)\u001b[0m \u001b[0;32mif\u001b[0m \u001b[0mdatatypes\u001b[0m\u001b[0;34m[\u001b[0m\u001b[0mi\u001b[0m\u001b[0;34m]\u001b[0m \u001b[0;34m==\u001b[0m \u001b[0mbool\u001b[0m \u001b[0;32melse\u001b[0m                            \u001b[0;34m(\u001b[0m\u001b[0mdatatypes\u001b[0m\u001b[0;34m[\u001b[0m\u001b[0mi\u001b[0m\u001b[0;34m]\u001b[0m\u001b[0;34m(\u001b[0m\u001b[0mdata\u001b[0m\u001b[0;34m[\u001b[0m\u001b[0mi\u001b[0m\u001b[0;34m]\u001b[0m\u001b[0;34m)\u001b[0m\u001b[0;34m)\u001b[0m \u001b[0;32mfor\u001b[0m \u001b[0mi\u001b[0m \u001b[0;32min\u001b[0m \u001b[0mrange\u001b[0m\u001b[0;34m(\u001b[0m\u001b[0mlen\u001b[0m\u001b[0;34m(\u001b[0m\u001b[0mdata\u001b[0m\u001b[0;34m)\u001b[0m\u001b[0;34m)\u001b[0m\u001b[0;34m]\u001b[0m\u001b[0;34m\u001b[0m\u001b[0m\n\u001b[0;32m---> 13\u001b[0;31m             \u001b[0mself\u001b[0m\u001b[0;34m.\u001b[0m\u001b[0m__dict__\u001b[0m\u001b[0;34m[\u001b[0m\u001b[0mattr\u001b[0m\u001b[0;34m]\u001b[0m \u001b[0;34m=\u001b[0m \u001b[0mvalues\u001b[0m \u001b[0;32mif\u001b[0m \u001b[0mlen\u001b[0m\u001b[0;34m(\u001b[0m\u001b[0mvalues\u001b[0m\u001b[0;34m)\u001b[0m \u001b[0;34m>\u001b[0m \u001b[0;36m1\u001b[0m \u001b[0;32melse\u001b[0m \u001b[0mvalues\u001b[0m\u001b[0;34m[\u001b[0m\u001b[0;36m0\u001b[0m\u001b[0;34m]\u001b[0m\u001b[0;34m\u001b[0m\u001b[0m\n\u001b[0m",
      "\u001b[0;31mNameError\u001b[0m: name 'self' is not defined"
     ]
    }
   ],
   "source": [
    "with open(\"dummy.par\", 'r') as input_file:\n",
    "    for line in input_file:\n",
    "            row = line.split()\n",
    "            if len(row)==0 or list(row)[0][0] == \"#\":\n",
    "                continue\n",
    "            label = row[0]\n",
    "            data = row[1:]  # rest of row is data list\n",
    "            attr = label_attr_map[label][0]\n",
    "            datatypes = label_attr_map[label][1:]\n",
    "\n",
    "#                    values = [(datatypes[i](data[i])) for i in range(len(data))]\n",
    "            values = [parsebool(data[i]) if datatypes[i] == bool else\\\n",
    "                            (datatypes[i](data[i])) for i in range(len(data))]\n",
    "            self.__dict__[attr] = values if len(values) > 1 else values[0]\n"
   ]
  },
  {
   "cell_type": "code",
   "execution_count": 6,
   "metadata": {},
   "outputs": [],
   "source": [
    "\n",
    "\n",
    "label_attr_map = {\n",
    "        \"ibdir:\": [\"ibdir\",str],\n",
    "        \"datadir:\": [ \"datadir\",str],\n",
    "        \"file_list:\": [\"file_list\",str],\n",
    "        \"outputdir:\": [\"outputdir\",str],\n",
    "        \"gimic:\": [\"gimic\",bool],\n",
    "        \"aurora:\": [\"aurora\",bool],\n",
    "        \"use_snapshot_file:\": [\"use_snapshot_file\",bool],\n",
    "        \"snap_base:\": [\"snap_base\",str],\n",
    "        \"use_random_los:\": [\"use_random_los\",bool],\n",
    "        \"los_coordinates_file:\": [\"los_coordinates_file\",str],\n",
    "        \"do_long_spectrum:\": [\"do_long_spectrum\",bool],\n",
    "        \"NoPecVel:\": [\"NoPecVel\",bool],\n",
    "        \"overwrite:\": [\"overwrite\",bool],\n",
    "        \"nspec:\": [\"nspec\",int],\n",
    "        \"output_zspaceopticaldepthweighted_values:\": [\"output_zspaceopticaldepthweighted_values\",bool],\n",
    "        \"output_realspacemassweighted_values:\": [\"output_realspacemassweighted_values\",bool],\n",
    "        \"output_realspacenionweighted_values:\": [\"output_realspacenionweighted_values\",bool],\n",
    "        \"output_frequency:\": [\"output_frequency\",bool],\n",
    "        \"impose_eos:\": [\"impose_eos\",bool],\n",
    "        \"imposed_eos_T0:\": [\"imposed_eos_T0\",float],\n",
    "        \"imposed_eos_gamma:\": [\"imposed_eos_gamma\",float],\n",
    "        \"imposed_eos_maxod:\": [\"imposed_eos_maxod\",float],\n",
    "        \"doH1:\": [\"doH1\",bool],\n",
    "        \"doHe2:\": [\"doHe2\",bool],\n",
    "        \"doC2:\": [\"doC2\",bool],\n",
    "        \"doC3:\": [\"doC3\",bool],\n",
    "        \"doC4:\": [\"doC4\",bool],\n",
    "        \"doN2:\": [\"doN2\",bool],\n",
    "        \"doN3:\": [\"doN3\",bool],\n",
    "        \"doN4:\": [\"doN4\",bool],\n",
    "        \"doN5:\": [\"doN5\",bool],\n",
    "        \"doO1:\": [\"doO1\",bool],\n",
    "        \"doO3:\": [\"doO3\",bool],\n",
    "        \"doO4:\": [\"doO4\",bool],\n",
    "        \"doO5:\": [\"doO5\",bool],\n",
    "        \"doO6:\": [\"doO6\",bool],\n",
    "        \"doO7:\": [\"doO7\",bool],\n",
    "        \"doMg2:\": [\"doMg2\",bool],\n",
    "        \"doNe8:\": [\"doNe8\",bool],\n",
    "        \"doAl2:\": [\"doAl2\",bool],\n",
    "        \"doAl3:\": [\"doAl3\",bool],\n",
    "        \"doSi2:\": [\"doSi2\",bool],\n",
    "        \"doSi3:\": [\"doSi3\",bool],\n",
    "        \"doSi4:\": [\"doSi4\",bool],\n",
    "        \"doS5:\": [\"doS5\",bool],\n",
    "        \"doFe2:\": [\"doFe2\",bool],\n",
    "        \"doFe3:\": [\"doFe3\",bool],\n",
    "        \"do21cm:\": [\"do21cm\",bool],\n",
    "        \"doall:\": [\"doall\",bool],\n",
    "        \"ibfactor:\": [\"ibfactor\",float],\n",
    "        \"use_fitted_ibfactor:\": [\"use_fitted_ibfactor\",bool],\n",
    "        \"ibfactor_he_reionization:\": [\"ibfactor_he_reionization\",bool],\n",
    "        \"use_maxdens_above_zmax:\": [\"use_maxdens_above_zmax\",bool],\n",
    "        \"modify_metallicity:\": [\"modify_metallicity\",bool],\n",
    "        \"maxz_rel:\": [\"maxz_rel\",float],\n",
    "        \"scale_simulation_abundances:\": [\"scale_simulation_abundances\",bool],\n",
    "        \"z_rel:\": [\"z_rel\",float],\n",
    "        \"impose_z_rho_relation:\": [\"impose_z_rho_relation\",bool],\n",
    "        \"z_index:\": [\"z_index\",float],\n",
    "        \"z_mean:\": [\"z_mean\",float],\n",
    "        \"log_normal_scatter:\": [\"log_normal_scatter\",bool],\n",
    "        \"z_sig_bin:\": [\"z_sig_bin\",int],\n",
    "        \"z_sig_dex:\": [\"z_sig_dex\",float],\n",
    "        \"ZC_rel:\": [\"ZC_rel\",float],\n",
    "        \"ZN_rel:\": [\"ZN_rel\",float],\n",
    "        \"ZO_rel:\": [\"ZO_rel\",float],\n",
    "        \"ZNe_rel:\": [\"ZNe_rel\",float],\n",
    "        \"ZMg_rel:\": [\"ZMg_rel\",float],\n",
    "        \"ZAl_rel:\": [\"ZAl_rel\",float],\n",
    "        \"ZSi_rel:\": [\"ZSi_rel\",float],\n",
    "        \"ZS_rel:\": [\"ZS_rel\",float],\n",
    "        \"ZFe_rel:\": [\"ZFe_rel\",float],\n",
    "        \"read_part_ids_from_file:\": [\"read_part_ids_from_file\",bool],\n",
    "        \"flagged_particle_metallicity:\": [\"flagged_particle_metallicity\",float],\n",
    "        \"generate_noise:\": [\"generate_noise\",bool],\n",
    "        \"use_noise_file:\": [\"use_noise_file\",float],\n",
    "        \"noisefile:\": [\"noisefile\",str],\n",
    "        \"sigtonoise:\": [\"sigtonoise\",float],\n",
    "        \"minnoise:\": [\"minnoise\",float],\n",
    "        \"minbother_blue:\" : [\"minbother_blue\",float],\n",
    "        \"minbother_red:\" : [\"minbother_red\",float],\n",
    "        \"vpixsizekms:\" : [\"vpixsizekms\",float],\n",
    "        \"do_convolve_spectrum:\" : [\"do_convolve_spectrum\",bool],\n",
    "        \"fwhm:\": [\"fwhm\",float],\n",
    "        \"zqso:\": [\"zqso\",float],\n",
    "        \"minlambda:\": [\"minlambda\",float],\n",
    "        \"maxlambda:\": [\"minlambda\",float],\n",
    "        \"zabsmin:\": [\"zabsmin\",float],\n",
    "        \"zabsmax:\": [\"zabsmax\",float],\n",
    "        \"nlyman:\" : [\"nlyman\",int],\n",
    "        \"fzresol:\": [\"fzresol\",float],\n",
    "        \"pixsize:\": [\"pixsize\",float]\n",
    "        }\n"
   ]
  },
  {
   "cell_type": "code",
   "execution_count": 26,
   "metadata": {},
   "outputs": [],
   "source": [
    "block = read_params(\"dummy.par\")"
   ]
  },
  {
   "cell_type": "code",
   "execution_count": 27,
   "metadata": {},
   "outputs": [
    {
     "data": {
      "text/plain": [
       "True"
      ]
     },
     "execution_count": 27,
     "metadata": {},
     "output_type": "execute_result"
    }
   ],
   "source": [
    "block.doH1"
   ]
  },
  {
   "cell_type": "code",
   "execution_count": null,
   "metadata": {},
   "outputs": [],
   "source": []
  }
 ],
 "metadata": {
  "kernelspec": {
   "display_name": "Python 2",
   "language": "python",
   "name": "python2"
  },
  "language_info": {
   "codemirror_mode": {
    "name": "ipython",
    "version": 2
   },
   "file_extension": ".py",
   "mimetype": "text/x-python",
   "name": "python",
   "nbconvert_exporter": "python",
   "pygments_lexer": "ipython2",
   "version": "2.7.15"
  }
 },
 "nbformat": 4,
 "nbformat_minor": 2
}
