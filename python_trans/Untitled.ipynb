{
 "cells": [
  {
   "cell_type": "code",
   "execution_count": 9,
   "metadata": {},
   "outputs": [],
   "source": [
    "import numpy as np\n",
    "import h5py as h5\n",
    "import sys\n",
    "import physical_data as const\n",
    "from read_parameter_file import read_params"
   ]
  },
  {
   "cell_type": "code",
   "execution_count": 10,
   "metadata": {},
   "outputs": [],
   "source": [
    "parameters = read_params('dummy.par')"
   ]
  },
  {
   "cell_type": "code",
   "execution_count": 11,
   "metadata": {},
   "outputs": [],
   "source": [
    "ions_to_do = which_ions_to_do = [parameters.doH1,parameters.doHe2,parameters.doC2,\n",
    "parameters.doC3,parameters.doC4,parameters.doN2,parameters.doN3,parameters.doN4,\n",
    "parameters.doN5,parameters.doO1,parameters.doO3,parameters.doO4,parameters.doO5,\n",
    "parameters.doO6,parameters.doO7,parameters.doMg2,parameters.doNe8,parameters.doAl2,\n",
    "parameters.doAl3,parameters.doSi2,parameters.doSi3,parameters.doSi4,parameters.doS5,\n",
    "parameters.doFe2,parameters.doFe3,parameters.do21cm]"
   ]
  },
  {
   "cell_type": "code",
   "execution_count": null,
   "metadata": {},
   "outputs": [],
   "source": []
  },
  {
   "cell_type": "code",
   "execution_count": 12,
   "metadata": {},
   "outputs": [],
   "source": [
    "for i in range(len(ions_to_do)):\n",
    "    ions_to_do[i] = bool(ions_to_do[i]==1)"
   ]
  },
  {
   "cell_type": "code",
   "execution_count": 13,
   "metadata": {},
   "outputs": [
    {
     "data": {
      "text/plain": [
       "[True,\n",
       " False,\n",
       " False,\n",
       " False,\n",
       " False,\n",
       " True,\n",
       " False,\n",
       " False,\n",
       " True,\n",
       " False,\n",
       " False,\n",
       " False,\n",
       " False,\n",
       " False,\n",
       " False,\n",
       " False,\n",
       " True,\n",
       " False,\n",
       " False,\n",
       " True,\n",
       " False,\n",
       " False,\n",
       " True,\n",
       " False,\n",
       " False,\n",
       " False]"
      ]
     },
     "execution_count": 13,
     "metadata": {},
     "output_type": "execute_result"
    }
   ],
   "source": [
    "ions_to_do"
   ]
  },
  {
   "cell_type": "code",
   "execution_count": 14,
   "metadata": {},
   "outputs": [],
   "source": [
    "ionbal_names = np.array([\"h1\",\"he2\",\"c2\",\"c3\",\"c4\",\"n2\",\"n3\",\"n4\",\"n5\",\"o1\",\"o3\",\"o4\",\"o5\",\"o6\",  #This elements of this list must be in the same order as\n",
    "                \"o7\",\"mg2\",\"ne8\",\"al2\",\"al3\",\"si2\",\"si3\",\"si4\",\"s5\",\"fe2\",\"fe3\",\"21cm\"]) # ions_to_do\n"
   ]
  },
  {
   "cell_type": "code",
   "execution_count": 15,
   "metadata": {},
   "outputs": [
    {
     "data": {
      "text/plain": [
       "array(['h1', 'he2', 'c2', 'c3', 'c4', 'n2', 'n3', 'n4', 'n5', 'o1', 'o3',\n",
       "       'o4', 'o5', 'o6', 'o7', 'mg2', 'ne8', 'al2', 'al3', 'si2', 'si3',\n",
       "       'si4', 's5', 'fe2', 'fe3', '21cm'], dtype='|S4')"
      ]
     },
     "execution_count": 15,
     "metadata": {},
     "output_type": "execute_result"
    }
   ],
   "source": [
    "ionbal_names"
   ]
  },
  {
   "cell_type": "code",
   "execution_count": 16,
   "metadata": {},
   "outputs": [],
   "source": [
    "ionbal_to_use = ionbal_names[ions_to_do]"
   ]
  },
  {
   "cell_type": "code",
   "execution_count": 24,
   "metadata": {},
   "outputs": [
    {
     "name": "stdout",
     "output_type": "stream",
     "text": [
      "h1\n",
      "n2\n",
      "n5\n",
      "ne8\n",
      "si2\n",
      "s5\n"
     ]
    }
   ],
   "source": [
    "ionss = []\n",
    "first_iteration = True\n",
    "for ion_file in ionbal_to_use:\n",
    "    with h5.File(parameters.ibdir+ion_file+\".hdf5\",\"r\") as f:\n",
    "        if first_iteration:\n",
    "            first_iteration = False\n",
    "            z_ranges_table = f[\"/redshift\"][...]\n",
    "            logt_table = f[\"/logt\"][...]\n",
    "            logd_talbe = f[\"/logd\"][...]\n",
    "        print(ion_file)\n",
    "        ionss.append([ion_file,f[\"/ionbal\"][...]])"
   ]
  },
  {
   "cell_type": "code",
   "execution_count": 23,
   "metadata": {},
   "outputs": [
    {
     "data": {
      "text/plain": [
       "'/cosma5/data/dp004/dc-wije1/bertone_tables/ionbal/'"
      ]
     },
     "execution_count": 23,
     "metadata": {},
     "output_type": "execute_result"
    }
   ],
   "source": [
    "parameters.ibdir"
   ]
  },
  {
   "cell_type": "code",
   "execution_count": 26,
   "metadata": {},
   "outputs": [
    {
     "data": {
      "text/plain": [
       "array([0.    , 0.0491, 0.1006, 0.1547, 0.2114, 0.2709, 0.3333, 0.3988,\n",
       "       0.4675, 0.5396, 0.6152, 0.6945, 0.7778, 0.8651, 0.9567, 1.053 ,\n",
       "       1.154 , 1.259 , 1.37  , 1.487 , 1.609 , 1.737 , 1.871 , 2.013 ,\n",
       "       2.16  , 2.316 , 2.479 , 2.649 , 2.829 , 3.017 , 3.214 , 3.421 ,\n",
       "       3.638 , 3.866 , 4.105 , 4.356 , 4.619 , 4.895 , 5.184 , 5.488 ,\n",
       "       5.807 , 6.141 , 6.492 , 6.859 , 7.246 , 7.65  , 8.075 , 8.521 ,\n",
       "       8.989 ], dtype=float32)"
      ]
     },
     "execution_count": 26,
     "metadata": {},
     "output_type": "execute_result"
    }
   ],
   "source": [
    "z_ranges_table"
   ]
  },
  {
   "cell_type": "code",
   "execution_count": null,
   "metadata": {},
   "outputs": [],
   "source": []
  }
 ],
 "metadata": {
  "kernelspec": {
   "display_name": "Python 2",
   "language": "python",
   "name": "python2"
  },
  "language_info": {
   "codemirror_mode": {
    "name": "ipython",
    "version": 2
   },
   "file_extension": ".py",
   "mimetype": "text/x-python",
   "name": "python",
   "nbconvert_exporter": "python",
   "pygments_lexer": "ipython2",
   "version": "2.7.15"
  }
 },
 "nbformat": 4,
 "nbformat_minor": 2
}
