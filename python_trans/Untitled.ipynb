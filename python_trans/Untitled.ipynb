{
 "cells": [
  {
   "cell_type": "code",
   "execution_count": 1,
   "metadata": {},
   "outputs": [
    {
     "name": "stdout",
     "output_type": "stream",
     "text": [
      "This is saying the use snapshot file is True\n"
     ]
    }
   ],
   "source": [
    "import numpy as np\n",
    "import h5py as h5\n",
    "import sys\n",
    "import physical_data as const\n",
    "from read_parameter_file import read_params\n",
    "import reading_data_for_los as RD\n",
    "import matplotlib.pyplot as plt\n",
    "from computeibb import computeibb as computeib\n",
    "from prodata import projectdata"
   ]
  },
  {
   "cell_type": "code",
   "execution_count": 2,
   "metadata": {},
   "outputs": [
    {
     "name": "stdout",
     "output_type": "stream",
     "text": [
      "LOS0/PartType0/Positions\n"
     ]
    }
   ],
   "source": [
    "#Load dummy parameters from a \"typical\" specwizard run \n",
    "parameters = read_params('dummy.par')\n",
    "\n",
    "#Load a small EAGLE box for testing\n",
    "fname = \"/home/andres/small_snap/snap_028_z000p000\"\n",
    "\n",
    "#Load a example of a postprocess LOS file\n",
    "fname2 = \"/home/andres/part_los_z0.010\"\n",
    "\n",
    "#Load class that contianes the particle information i,e position, velocities etc.\n",
    "loss = RD.read_particle_data_from_los(fname2,0)        \n",
    "\n",
    "#Load the class the contains the header information\n",
    "simdata = RD.read_header(fname2)\n",
    "\n",
    "#Conversion factors \n",
    "convert = RD.units_and_factors_for_los(fname2)\n",
    "\n",
    "# This outputs which is what is the long axis from the LOS  (0=x,1=y,z=2)\n",
    "los_long_axis = np.argmax([(loss.Position[:,0].max()-loss.Position[:,0].min()) /simdata.HubbleParam * simdata.ExpansionFactor,(loss.Position[:,1].max()-loss.Position[:,1].min()) /simdata.HubbleParam * simdata.ExpansionFactor,(loss.Position[:,2].max()-loss.Position[:,2].min()) /simdata.HubbleParam * simdata.ExpansionFactor])"
   ]
  },
  {
   "cell_type": "code",
   "execution_count": 3,
   "metadata": {},
   "outputs": [],
   "source": [
    "acurrent = simdata.ExpansionFactor\n",
    "zcurrent = simdata.Redshift\n",
    "CurrentHubbleCt = 100. * simdata.HubbleParam *  np.sqrt(1. + simdata.Omega0*(1./acurrent-1.) + simdata.OmegaLambda* (acurrent**2-1.)) /acurrent\n",
    "boxkms = simdata.BoxSize / simdata.HubbleParam * acurrent * CurrentHubbleCt\n",
    "\n",
    "vpixsizekms = 1\n",
    "nveloc = int(boxkms / vpixsizekms) + 1"
   ]
  },
  {
   "cell_type": "code",
   "execution_count": 4,
   "metadata": {},
   "outputs": [],
   "source": [
    "Coordinates_conv     = convert.Pos_aexp_exp * np.log10(simdata.ExpansionFactor) + convert.Pos_h_exp * np.log10(simdata.HubbleParam) + np.log10(convert.Pos_cgs_unit) - np.log10(convert.cm_per_mpc) # in physical Mpc\n",
    "Coordinates_conv     = 10.0**Coordinates_conv\n",
    "Position = loss.Position * Coordinates_conv\n",
    "BoxPhys = simdata.BoxSize * Coordinates_conv\n",
    "ParticleSmoothingLength = loss.ParticleSmoothingLength * Coordinates_conv"
   ]
  },
  {
   "cell_type": "code",
   "execution_count": 5,
   "metadata": {},
   "outputs": [],
   "source": [
    "Velocity_conv = convert.Vel_aexp_exp * np.log10(simdata.ExpansionFactor) + convert.Vel_h_exp * np.log10(simdata.HubbleParam) + np.log10(convert.Vel_cgs_unit) - np.log10(1e5) #$ physical km/s\n",
    "Velocity_conv = 10.0**Velocity_conv\n",
    "Velocity = loss.Velocity * Velocity_conv"
   ]
  },
  {
   "cell_type": "code",
   "execution_count": 6,
   "metadata": {},
   "outputs": [],
   "source": [
    "Density_conv = convert.Dens_aexp_exp * np.log10(simdata.ExpansionFactor) + convert.Dens_h_exp * np.log10(simdata.HubbleParam) + np.log10(convert.Dens_cgs_unit)- np.log10(convert.proton_mass)\n",
    "Density_conv = 10**Density_conv\n",
    "ParticleDensity = loss.ParticleDensity * Density_conv\n",
    "#Convert from total density to *Hydrogen* number density\n",
    "ParticleDensity = ParticleDensity * loss.MassFractions[:,0]\n",
    "Metallicity = loss.Metallicity[...] / const.Zmass_solar  #metallicity in solar units\n"
   ]
  },
  {
   "cell_type": "code",
   "execution_count": 7,
   "metadata": {},
   "outputs": [],
   "source": [
    "Mass_conv = convert.Mass_aexp_exp * np.log10(simdata.ExpansionFactor) + convert.Mass_h_exp * np.log10(simdata.HubbleParam) + np.log10(convert.Mass_cgs_unit) - np.log10(convert.solar_mass)\n",
    "Mass_conv = 10.0**Mass_conv\n",
    "Mass   = loss.Mass * Mass_conv"
   ]
  },
  {
   "cell_type": "code",
   "execution_count": 8,
   "metadata": {},
   "outputs": [],
   "source": [
    "Temp_Conv           = convert.Temp_aexp_exp * np.log10(simdata.ExpansionFactor) + convert.Temp_h_exp * np.log10(simdata.HubbleParam) + np.log10(convert.Temp_cgs_unit) #! cgs\n",
    "Temp_Conv           = 10.0**Temp_Conv\n",
    "ParticleTemperature = loss.ParticleTemperature * Temp_Conv "
   ]
  },
  {
   "cell_type": "code",
   "execution_count": 9,
   "metadata": {},
   "outputs": [],
   "source": [
    "x_physical = np.average(Position[:,0])\n",
    "y_physical = np.average(Position[:,1])"
   ]
  },
  {
   "cell_type": "code",
   "execution_count": 11,
   "metadata": {},
   "outputs": [
    {
     "data": {
      "text/plain": [
       "0"
      ]
     },
     "execution_count": 11,
     "metadata": {},
     "output_type": "execute_result"
    }
   ],
   "source": [
    "los_long_axis"
   ]
  },
  {
   "cell_type": "code",
   "execution_count": 12,
   "metadata": {},
   "outputs": [],
   "source": [
    "Position_2 = np.zeros(np.shape(Position))\n",
    "\n",
    "if los_long_axis == 0:\n",
    "    Position_2[:,0] = Position[:,1]\n",
    "    Position_2[:,1] = Position[:,2]\n",
    "    Position_2[:,2] = Position[:,0]\n",
    "elif los_long_axis == 1:\n",
    "    Position_2[:,0] = Position[:,2]\n",
    "    Position_2[:,1] = Position[:,0]\n",
    "    Position_2[:,2] = Position[:,1]\n",
    "    \n",
    "else:\n",
    "    Position_2[:,0] = Position[:,0]\n",
    "    Position_2[:,1] = Position[:,1]\n",
    "    Position_2[:,2] = Position[:,2]\n"
   ]
  },
  {
   "cell_type": "code",
   "execution_count": 13,
   "metadata": {},
   "outputs": [],
   "source": [
    "x_physical = np.average(Position_2[:,0])\n",
    "y_physical = np.average(Position_2[:,1])"
   ]
  },
  {
   "cell_type": "code",
   "execution_count": 14,
   "metadata": {},
   "outputs": [],
   "source": [
    "\n",
    "ions_to_do = [parameters.doH1,parameters.doHe2,parameters.doC2,\n",
    "parameters.doC3,parameters.doC4,parameters.doN2,parameters.doN3,parameters.doN4,\n",
    "parameters.doN5,parameters.doO1,parameters.doO3,parameters.doO4,parameters.doO5,\n",
    "parameters.doO6,parameters.doO7,parameters.doMg2,parameters.doNe8,parameters.doAl2,\n",
    "parameters.doAl3,parameters.doSi2,parameters.doSi3,parameters.doSi4,parameters.doS5,\n",
    "parameters.doFe2,parameters.doFe3,parameters.do21cm]\n",
    "\n",
    "number_ions = np.sum(ions_to_do) # was nion in the original F90 subroutine, prob superflues in this implimentation\n",
    "\n",
    "number_species =  number_ions# was nspecies in the original F90\n",
    "\n",
    "if (number_ions==0):\n",
    "    print(\"ERROR: No ions were selected!\")\n",
    "    sys.exit()\n",
    "if (parameters.doH1 and parameters.do_long_spectrum and parameters.nlyman > const.nlyman_all):\n",
    "    print('ERROR: nlyman > n_lines_max')\n",
    "    sys.exit()\n",
    "if (const.Lambda_H1[0] !=  const.lyalpha):    # a bit superflus\n",
    "    print( 'ERROR: Lambda_H1[0] and lyalpha  are not equal ')\n",
    "\n",
    "ionbal_names = np.array([\"h1\",\"he2\",\"c2\",\"c3\",\"c4\",\"n2\",\"n3\",\"n4\",\"n5\",\"o1\",\"o3\",\"o4\",\"o5\",\"o6\",  #The elements of this list must be in the same order as\n",
    "                \"o7\",\"mg2\",\"ne8\",\"al2\",\"al3\",\"si2\",\"si3\",\"si4\",\"s5\",\"fe2\",\"fe3\",\"21cm\"])          # ions_to_do\n",
    "\n"
   ]
  },
  {
   "cell_type": "code",
   "execution_count": 15,
   "metadata": {},
   "outputs": [],
   "source": [
    "ionbal_to_use = ionbal_names[ions_to_do]"
   ]
  },
  {
   "cell_type": "code",
   "execution_count": 16,
   "metadata": {},
   "outputs": [
    {
     "data": {
      "text/plain": [
       "array(['h1', 'n2', 'n5', 'ne8', 'si2'], dtype='<U4')"
      ]
     },
     "execution_count": 16,
     "metadata": {},
     "output_type": "execute_result"
    }
   ],
   "source": [
    "ionbal_to_use"
   ]
  },
  {
   "cell_type": "code",
   "execution_count": 17,
   "metadata": {},
   "outputs": [
    {
     "name": "stdout",
     "output_type": "stream",
     "text": [
      "h1 Ionization table loaded\n",
      "n2 Ionization table loaded\n",
      "n5 Ionization table loaded\n",
      "ne8 Ionization table loaded\n",
      "si2 Ionization table loaded\n"
     ]
    }
   ],
   "source": [
    "# something like this...\n",
    "ionss = []\n",
    "first_iteration = True\n",
    "\n",
    "for ion_file in ionbal_to_use:\n",
    "    with h5.File(parameters.ibdir+ion_file+\".hdf5\",\"r\") as f:\n",
    "        if first_iteration:\n",
    "            z_ranges_table = f[\"/redshift\"][...]\n",
    "            logt_table = f[\"/logt\"][...]\n",
    "            logd_table = f[\"/logd\"][...]\n",
    "            first_iteration = False\n",
    "\n",
    "        ionss.append(f[\"/ionbal\"][...].flatten())\n",
    "        print(ion_file+' Ionization table loaded')\n"
   ]
  },
  {
   "cell_type": "code",
   "execution_count": 18,
   "metadata": {},
   "outputs": [
    {
     "data": {
      "text/plain": [
       "array(['h1', 'n2', 'n5', 'ne8', 'si2'], dtype='<U4')"
      ]
     },
     "execution_count": 18,
     "metadata": {},
     "output_type": "execute_result"
    }
   ],
   "source": [
    "ionbal_to_use"
   ]
  },
  {
   "cell_type": "code",
   "execution_count": 19,
   "metadata": {},
   "outputs": [],
   "source": [
    "ElementAtomicMass = [const.atom_dic[item][0] for item in ionbal_to_use]"
   ]
  },
  {
   "cell_type": "code",
   "execution_count": 20,
   "metadata": {},
   "outputs": [],
   "source": [
    "MassFraction_indx = [const.atom_dic[item][-1] for item in ionbal_to_use]"
   ]
  },
  {
   "cell_type": "code",
   "execution_count": 33,
   "metadata": {},
   "outputs": [
    {
     "data": {
      "text/plain": [
       "array([5.50501816e+19, 0.00000000e+00, 0.00000000e+00, 0.00000000e+00,\n",
       "       0.00000000e+00])"
      ]
     },
     "execution_count": 33,
     "metadata": {},
     "output_type": "execute_result"
    }
   ],
   "source": [
    "loss.MassFractions[500,MassFraction_indx] * loss.Mass[500] / ElementAtomicMass[:]"
   ]
  },
  {
   "cell_type": "code",
   "execution_count": 22,
   "metadata": {},
   "outputs": [],
   "source": [
    "ParticleNeutralHFraction = loss.ParticleNeutralHFraction\n",
    "ParticleMolecularHFraction = loss.ParticleMolecularHFraction"
   ]
  },
  {
   "cell_type": "code",
   "execution_count": 23,
   "metadata": {},
   "outputs": [
    {
     "name": "stderr",
     "output_type": "stream",
     "text": [
      "<ipython-input-23-61848e83ba78>:5: RuntimeWarning: divide by zero encountered in log10\n",
      "  ionizbal = np.log10(ionss)\n"
     ]
    }
   ],
   "source": [
    "NGas = len(Mass)\n",
    "ib_logt = logt_table\n",
    "ib_logd = logd_table\n",
    "ib_redshift =z_ranges_table\n",
    "ionizbal = np.log10(ionss)\n",
    "ion_elnr = MassFraction_indx \n",
    "nion = len(ionbal_to_use)\n",
    "nz = len(z_ranges_table)\n",
    "nznt = nz*len(ib_logt)"
   ]
  },
  {
   "cell_type": "code",
   "execution_count": 24,
   "metadata": {},
   "outputs": [],
   "source": [
    "n_ion     =  np.zeros((nion,nveloc))"
   ]
  },
  {
   "cell_type": "code",
   "execution_count": 25,
   "metadata": {},
   "outputs": [],
   "source": [
    "#blah = projectdata(Position, Velocity, ParticleSmoothingLength, ParticleDensity, ParticleTemperature, ParticleNeutralHFraction, ParticleMolecularHFraction,\n",
    "#Metallicity ,ib_redshift, ionizbal, loss.MassFractions , Mass, ElementAtomicMass , ion_elnr, x_physical, y_physical,zcurrent,simdata.BoxSize, simdata.ExpansionFactor, ib_logd, ib_logt,simdata.HubbleParam, nveloc, NGas, nion, nz, nznt)"
   ]
  },
  {
   "cell_type": "code",
   "execution_count": 26,
   "metadata": {},
   "outputs": [],
   "source": [
    "#here there could be an issue with the difference of indexing between python and fortran \n",
    "if (nz > 1):\n",
    "    if (not parameters.use_maxdens_above_zmax):\n",
    "        if (zcurrent < ib_redshift[0] or zcurrent > ib_redshift[-1]):\n",
    "            print(\"ERROR: Z out of bounds of the ion table!\")\n",
    "            sys.exit()\n",
    "    if(parameters.use_maxdens_above_zmax > ib_redshift[-1] and zcurrent > ib_redshift[-1]):\n",
    "        iz1 = nz -1\n",
    "        iz2 = nz\n",
    "        dz1 = 0\n",
    "        dz2 = 1.0\n",
    "    else:\n",
    "        iz2=1\n",
    "        while(zcurrent > ib_redshift[iz2]):\n",
    "            iz2 = iz2 =1\n",
    "        iz1 = iz2-1\n",
    "        dz1 = (ib_redshift[iz2] - zcurrent) / (ib_redshift[iz2] - ib_redshift[iz1])\n",
    "        dz2 = 1. -dz1"
   ]
  },
  {
   "cell_type": "code",
   "execution_count": 45,
   "metadata": {},
   "outputs": [],
   "source": [
    "zmingrid = 0\n",
    "zmaxgrid = (simdata.BoxSize*simdata.ExpansionFactor) / simdata.HubbleParam\n",
    "box      = zmaxgrid\n",
    "dzgrid   = (zmaxgrid - zmingrid) / nveloc\n",
    "dzinv    = 1. / dzgrid \n",
    "box_2    = 0.5 * box\n",
    "densscale = (simdata.ExpansionFactor/simdata.ExpansionFactor)**3\n",
    "ncontr= 0"
   ]
  },
  {
   "cell_type": "code",
   "execution_count": 53,
   "metadata": {},
   "outputs": [],
   "source": [
    "ionh = []\n",
    "\n",
    "for i in range(NGas):\n",
    "  ##    cdef double[:] p       /* (how to define this in cpython) */\n",
    "\n",
    "    xx      = Position_2[i,0]\n",
    "    yy      = Position_2[i,1]\n",
    "    zz      = Position_2[i,2]\n",
    "\n",
    "    hh      = ParticleSmoothingLength[i]\n",
    "    h2      = hh*hh\n",
    "    hinv2   = 1. / h2\n",
    "    hinv3   = hinv2 / hh\n",
    "\n",
    "    dx      = abs(xx - x_physical)\n",
    "    dy      = abs(yy - y_physical)\n",
    "\n",
    "    if(dx > box_2):\n",
    "        dx  = box - dx\n",
    "\n",
    "    if(dy > box_2):\n",
    "        dy = box - dy\n",
    "\n",
    "    b2    = dx*dx + dy*dy\n",
    "    b     = (b2)**0.5\n",
    "    impactparameter = b\n",
    "\n",
    "    if( impactparameter <= hh):\n",
    "\n",
    "    #    print(i)\n",
    "    #    print(hh)\n",
    "        ncontr = ncontr + 1\n",
    "\n",
    "        #Density\n",
    "\n",
    "        Density = ParticleDensity[i]\n",
    "\n",
    "        if(Density < 0):\n",
    "            print(\"ERROR:  Negative Density\")\n",
    "\n",
    "        Density = Density * densscale\n",
    "        log_dens = np.log10(Density)\n",
    "\n",
    "        log_temp = np.log10(ParticleTemperature[i])\n",
    "        ionfrac = computeib(ib_redshift[iz1],ib_redshift[iz2],iz1, iz2, dz1, dz2, log_temp, log_dens, ib_logd, ionizbal, ib_logt, nz, nznt)\n",
    "        ionh.append(ionfrac[0])\n",
    "        \n",
    "        #TO DO: URCHIN\n",
    "        \n",
    "        if parameters.aurora:\n",
    "            ionfrac[0] = loss.ParticleNeutralHFraction[i]\n",
    "        #TO DO : Ioncracone\n",
    "        \n",
    "        #Peculiar Velocities\n",
    "        if parameters.NoPecVel:\n",
    "            vr = 0\n",
    "        else:\n",
    "            vr = Velocity[i,los_long_axis]\n",
    "\n",
    "        #Central Pixel \n",
    "        iz = int((zz - zmingrid) * dzinv + 1)\n",
    "        \n",
    "        #contribute to projection segment\n",
    "\n",
    "        dzmax = np.sqrt(np.abs(h2 - b2))\n",
    "        ioff  = int(dzmax * dzinv) + 2\n",
    "        \n",
    "        #To Do: gimic (?)\n",
    "        \n",
    "        if(ioff*2 > nveloc):\n",
    "            print(\"Error ioff*2 > nveloc\")\n",
    "        \n",
    "        if \n",
    "        break\n",
    "        \n",
    "        \n",
    "        \n",
    "        "
   ]
  },
  {
   "cell_type": "code",
   "execution_count": 58,
   "metadata": {},
   "outputs": [
    {
     "name": "stdout",
     "output_type": "stream",
     "text": [
      "1168 1173\n"
     ]
    }
   ],
   "source": [
    "iiz = iz-ioff\n",
    "iizg = iz+ioff+1\n",
    "print(iiz,iizg)"
   ]
  },
  {
   "cell_type": "code",
   "execution_count": 61,
   "metadata": {},
   "outputs": [],
   "source": [
    "j = np.mod(iiz-1+10*nveloc,nveloc)+1"
   ]
  },
  {
   "cell_type": "code",
   "execution_count": 63,
   "metadata": {},
   "outputs": [],
   "source": [
    "zzgird = zmingrid + (j-0.5)*dzgrid"
   ]
  },
  {
   "cell_type": "code",
   "execution_count": 66,
   "metadata": {},
   "outputs": [
    {
     "name": "stdout",
     "output_type": "stream",
     "text": [
      "0.03655829089890261\n"
     ]
    }
   ],
   "source": [
    "deltaz = abs(zzgird - zz)\n",
    "print(deltaz)"
   ]
  },
  {
   "cell_type": "code",
   "execution_count": 68,
   "metadata": {},
   "outputs": [],
   "source": [
    "if (deltaz > box_2):\n",
    "    deltaz = box - deltaz"
   ]
  },
  {
   "cell_type": "code",
   "execution_count": 69,
   "metadata": {},
   "outputs": [],
   "source": [
    "dr2 = b2 + deltaz**2"
   ]
  },
  {
   "cell_type": "code",
   "execution_count": 70,
   "metadata": {},
   "outputs": [],
   "source": [
    "zf = deltaz + dzgrid*0.5\n",
    "zi = deltaz - dzgrid*0.5"
   ]
  },
  {
   "cell_type": "code",
   "execution_count": 71,
   "metadata": {},
   "outputs": [
    {
     "name": "stdout",
     "output_type": "stream",
     "text": [
      "0.04390131496608995 0.02921526683171528\n"
     ]
    }
   ],
   "source": [
    "print(zf,zi)"
   ]
  },
  {
   "cell_type": "code",
   "execution_count": 72,
   "metadata": {},
   "outputs": [
    {
     "name": "stdout",
     "output_type": "stream",
     "text": [
      "1.0285145178314254\n"
     ]
    }
   ],
   "source": [
    "q = np.sqrt(dr2 * hinv2) # q = r/h \n",
    "print(q)"
   ]
  },
  {
   "cell_type": "code",
   "execution_count": null,
   "metadata": {},
   "outputs": [],
   "source": [
    "if (q < 0.5):\n",
    "    kernel_factor = (1.+6*q**2*(q-1))\n",
    "elif ( q < 1):\n",
    "    kernel_factor = 2.*(1-q)**3\n",
    "else:\n",
    "    kernel_factor = 0 \n",
    "kernel_factor = (kernel_factor * 8. * hinv3) / np.pi"
   ]
  },
  {
   "cell_type": "markdown",
   "metadata": {},
   "source": [
    "TO DO: URCHIN, AURORA "
   ]
  },
  {
   "cell_type": "code",
   "execution_count": null,
   "metadata": {},
   "outputs": [],
   "source": [
    "if parameters.aurora:\n",
    "    ionfrac[0]"
   ]
  },
  {
   "cell_type": "code",
   "execution_count": null,
   "metadata": {},
   "outputs": [],
   "source": [
    "(Position,Velocity,ParticleSmoothingLength, ParticleDensity, ParticleTemperature, ParticleNeutralHFraction,ParticleMolecularHFraction,\n",
    "Metallicity ,ib_redshift, ionizbal,  MassFractions , Mass, ElementAtomicMas  s, ion_elnr, x_physical, y_physical, zcurrent, BoxSize, ExpansionFactor, ib_logd, ib_logt,  HubbleParam,\n",
    "nveloc, NGas, nion, nz, nznt):"
   ]
  },
  {
   "cell_type": "code",
   "execution_count": null,
   "metadata": {},
   "outputs": [],
   "source": [
    "#! Convert units, specwizard assumes the following units:\n",
    "# Position:          Physical Mpc (and ParticleSmoothingLength too)\n",
    "# Velocity:          Physical km/s\n",
    "# ParticleTemperature:       K\n",
    "# Density:           Hydrogen density in particles cm^-3\n",
    "  !\n",
    "  if (read_part_ids_from_file) then\n",
    "     !\n",
    "     !Open partid.hdf5:\t\n",
    "     call hdf5_open_file(part_file_handle, particle_file_name, readonly=.true.)\n",
    "     !\n",
    "     !read data from partid.hdf5 file:\n",
    "     call hdf5_read_data(part_file_handle, 'MyData', partid)\n",
    "     !\n",
    "     call hdf5_close_file(part_file_handle)\n",
    "     !\n",
    "     call modify_metallicity_of_flagged_particles()\n",
    "     !\n",
    "  endif\n",
    "  !\n",
    " \n",
    "  !\n",
    "  if(HubbleParam .eq. 0) call abortrun('HubbleParam = 0!')\n",
    "  Temp_conv          = Temp_aexp_exp * log10(ExpansionFactor) + Temp_h_exp * log10(HubbleParam) + log10(Temp_cgs_unit) ! cgs\n",
    "  Temp_Conv          = 10.d0**Temp_Conv\n",
    "  ParticleTemperature        = ParticleTemperature * Temp_Conv \n",
    "  !\n",
    "  if(setmaxt4sfgas) then\n",
    "    where(StarFormationRate .gt. 0) ParticleTemperature = 1.d4\n",
    "  endif\n",
    "  !\n",
    "  if(ignore_starforming) then\n",
    "    where(StarFormationRate .gt. 0) Mass = 0.d0 ! Particles on the EOS do not contribute\n",
    "  endif\n",
    "  !\n",
    "  MetallicityinSolar = Metallicity / zmass_solar ! convert metallicity to solar values\n",
    "  if(MyPE == 0) &\n",
    "       write(*,*) ' Snapshot read'"
   ]
  }
 ],
 "metadata": {
  "kernelspec": {
   "display_name": "Python 3",
   "language": "python",
   "name": "python3"
  },
  "language_info": {
   "codemirror_mode": {
    "name": "ipython",
    "version": 3
   },
   "file_extension": ".py",
   "mimetype": "text/x-python",
   "name": "python",
   "nbconvert_exporter": "python",
   "pygments_lexer": "ipython3",
   "version": "3.9.1"
  }
 },
 "nbformat": 4,
 "nbformat_minor": 2
}
