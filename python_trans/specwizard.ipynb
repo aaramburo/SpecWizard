{
 "cells": [
  {
   "cell_type": "code",
   "execution_count": 1,
   "metadata": {},
   "outputs": [
    {
     "name": "stderr",
     "output_type": "stream",
     "text": [
      "/cosma/local/Python/2.7.15/lib/python2.7/site-packages/h5py/__init__.py:75: UserWarning: h5py is running against HDF5 1.10.3 when it was built against 1.8.4, this may cause problems\n",
      "  '{0}.{1}.{2}'.format(*version.hdf5_built_version_tuple)\n"
     ]
    },
    {
     "name": "stdout",
     "output_type": "stream",
     "text": [
      "This is saying the use snapshot file is True\n"
     ]
    }
   ],
   "source": [
    "import numpy as np\n",
    "import h5py as h5\n",
    "import sys\n",
    "import physical_data as const\n",
    "from read_parameter_file import read_params\n",
    "import reading_data_for_los as RD\n",
    "import matplotlib.pyplot as plt\n",
    "from computeibb import computeibb as computeib\n",
    "from prodata import projectdata\n",
    "from projectdataf import project_data\n",
    "import time\n",
    "from intergrid import Intergrid   \n",
    "from read_ionizationtables import read_iontables\n",
    "import read_ionizationtables as RIT"
   ]
  },
  {
   "cell_type": "markdown",
   "metadata": {},
   "source": [
    "## Extra functions"
   ]
  },
  {
   "cell_type": "code",
   "execution_count": 2,
   "metadata": {},
   "outputs": [],
   "source": [
    "def los_long_axis(Position,HubbleParam,ExpansionFactor):\n",
    "    '''\n",
    "    Returns the long axis that the LOS belongs to\n",
    "    0-x\n",
    "    1-y\n",
    "    2-z\n",
    "    '''\n",
    "    return np.argmax([(Position[:,0].max()-Position[:,0].min()) /HubbleParam * ExpansionFactor,(Position[:,1].max()-Position[:,1].min()) /HubbleParam * ExpansionFactor,(Position[:,2].max()-Position[:,2].min()) /HubbleParam * ExpansionFactor])"
   ]
  },
  {
   "cell_type": "code",
   "execution_count": 3,
   "metadata": {},
   "outputs": [],
   "source": [
    "def align_positions(los_long_axis,Position):\n",
    "    '''\n",
    "    Changes the frame of reference of the coordinates, depending on the long axis.\n",
    "    '''\n",
    "    Position_2 = np.zeros(np.shape(Position),dtype=np.float128)\n",
    "    if los_long_axis == 0:\n",
    "        Position_2[:,0] = Position[:,1]\n",
    "        Position_2[:,1] = Position[:,2]\n",
    "        Position_2[:,2] = Position[:,0]\n",
    "    elif los_long_axis == 1:\n",
    "        Position_2[:,0] = Position[:,2]\n",
    "        Position_2[:,1] = Position[:,0]\n",
    "        Position_2[:,2] = Position[:,1]\n",
    "\n",
    "    else:\n",
    "        Position_2[:,0] = Position[:,0]\n",
    "        Position_2[:,1] = Position[:,1]\n",
    "        Position_2[:,2] = Position[:,2]\n",
    "    \n",
    "    return Position_2"
   ]
  },
  {
   "cell_type": "markdown",
   "metadata": {},
   "source": [
    "## Main Code"
   ]
  },
  {
   "cell_type": "markdown",
   "metadata": {},
   "source": [
    "### Loading the parameters"
   ]
  },
  {
   "cell_type": "code",
   "execution_count": 5,
   "metadata": {},
   "outputs": [
    {
     "name": "stdout",
     "output_type": "stream",
     "text": [
      "LOS1/PartType0/Positions\n"
     ]
    }
   ],
   "source": [
    "#Load dummy parameters from a \"typical\" specwizard run \n",
    "parameters = read_params('dummy.par')\n",
    "\n",
    "#Load class that contianes the particle information i,e position, velocities etc.\n",
    "loss = RD.read_particle_data_from_los(parameters,1)        \n",
    "\n",
    "#Load the class the contains the header information\n",
    "simdata = RD.read_header(parameters)\n",
    "\n",
    "#Conversion factors \n",
    "convert = RD.units_and_factors_for_los(parameters)\n",
    "\n",
    "# This outputs which is what is the long axis from the LOS  (0=x,1=y,z=2)\n",
    "loss.los_long_axis = los_long_axis(loss.Position, simdata.HubbleParam, simdata.ExpansionFactor)\n",
    "loss.Position = align_positions(loss.los_long_axis,loss.Position)"
   ]
  },
  {
   "cell_type": "code",
   "execution_count": 6,
   "metadata": {},
   "outputs": [],
   "source": [
    "acurrent = simdata.ExpansionFactor\n",
    "zcurrent = simdata.Redshift\n",
    "\n",
    "simdata.CurrentHubbleCt = 100. * simdata.HubbleParam *  np.sqrt(1. + simdata.Omega0*(1./acurrent-1.) + simdata.OmegaLambda* (acurrent**2-1.)) /acurrent\n",
    "simdata.boxkms = simdata.BoxSize / simdata.HubbleParam * acurrent * simdata.CurrentHubbleCt\n",
    "\n",
    "simdata.vpixsizekms = 1\n",
    "simdata.nveloc = int(simdata.boxkms / simdata.vpixsizekms) + 1"
   ]
  },
  {
   "cell_type": "code",
   "execution_count": 7,
   "metadata": {},
   "outputs": [],
   "source": [
    "Coordinates_conv     = convert.Pos_aexp_exp * np.log10(simdata.ExpansionFactor) + convert.Pos_h_exp * np.log10(simdata.HubbleParam) + np.log10(convert.Pos_cgs_unit) - np.log10(convert.cm_per_mpc) # in physical Mpc\n",
    "Coordinates_conv     = 10.0**Coordinates_conv\n",
    "loss.Position = loss.Position * Coordinates_conv\n",
    "BoxPhys = simdata.BoxSize * Coordinates_conv\n",
    "loss.ParticleSmoothingLength = loss.ParticleSmoothingLength * Coordinates_conv"
   ]
  },
  {
   "cell_type": "code",
   "execution_count": 8,
   "metadata": {},
   "outputs": [],
   "source": [
    "Velocity_conv = convert.Vel_aexp_exp * np.log10(simdata.ExpansionFactor) + convert.Vel_h_exp * np.log10(simdata.HubbleParam) + np.log10(convert.Vel_cgs_unit) - np.log10(1e5) #$ physical km/s\n",
    "Velocity_conv = 10.0**Velocity_conv\n",
    "loss.Velocity = loss.Velocity * Velocity_conv"
   ]
  },
  {
   "cell_type": "code",
   "execution_count": 9,
   "metadata": {},
   "outputs": [],
   "source": [
    "Density_conv = convert.Dens_aexp_exp * np.log10(simdata.ExpansionFactor) + convert.Dens_h_exp * np.log10(simdata.HubbleParam) + np.log10(convert.Dens_cgs_unit)- np.log10(convert.proton_mass)\n",
    "Density_conv = 10**Density_conv\n",
    "\n",
    "loss.ParticleDensity = loss.ParticleDensity * Density_conv\n",
    "#Convert from total density to *Hydrogen* number density\n",
    "loss.ParticleDensity = loss.ParticleDensity * loss.MassFractions[:,0]\n",
    "loss.Metallicity = loss.Metallicity[...] / const.Zmass_solar  #metallicity in solar units"
   ]
  },
  {
   "cell_type": "code",
   "execution_count": 10,
   "metadata": {},
   "outputs": [],
   "source": [
    "Mass_conv = convert.Mass_aexp_exp * np.log10(simdata.ExpansionFactor) + convert.Mass_h_exp * np.log10(simdata.HubbleParam) + np.log10(convert.Mass_cgs_unit) - np.log10(convert.solar_mass)\n",
    "Mass_conv = 10.0**Mass_conv\n",
    "loss.Mass   = loss.Mass * Mass_conv"
   ]
  },
  {
   "cell_type": "code",
   "execution_count": 12,
   "metadata": {},
   "outputs": [],
   "source": [
    "Temp_Conv           = convert.Temp_aexp_exp * np.log10(simdata.ExpansionFactor) + convert.Temp_h_exp * np.log10(simdata.HubbleParam) + np.log10(convert.Temp_cgs_unit) #! cgs\n",
    "Temp_Conv           = 10.0**Temp_Conv\n",
    "loss.ParticleTemperature = loss.ParticleTemperature * Temp_Conv "
   ]
  },
  {
   "cell_type": "code",
   "execution_count": 13,
   "metadata": {},
   "outputs": [],
   "source": [
    "loss.x_physical = loss.x_position * Coordinates_conv  #LOS x-starting point\n",
    "loss.y_physical = loss.y_position * Coordinates_conv  #LOS y-starting point"
   ]
  },
  {
   "cell_type": "code",
   "execution_count": 14,
   "metadata": {},
   "outputs": [
    {
     "name": "stdout",
     "output_type": "stream",
     "text": [
      "h1 Ionization table loaded\n",
      "n2 Ionization table loaded\n",
      "n5 Ionization table loaded\n",
      "ne8 Ionization table loaded\n",
      "si2 Ionization table loaded\n"
     ]
    }
   ],
   "source": [
    "#load ionization table parameters\n",
    "ionpar = RIT.read_iontables(parameters)"
   ]
  },
  {
   "cell_type": "code",
   "execution_count": 15,
   "metadata": {},
   "outputs": [
    {
     "name": "stderr",
     "output_type": "stream",
     "text": [
      "projectdataf.py:49: RuntimeWarning: divide by zero encountered in log10\n",
      "  ionizbal = np.log10(ionpar.ionss)\n"
     ]
    },
    {
     "name": "stdout",
     "output_type": "stream",
     "text": [
      "It took 5.426018 seconds\n"
     ]
    }
   ],
   "source": [
    "loss,tf = project_data(loss,simdata,parameters,ionpar)"
   ]
  },
  {
   "cell_type": "code",
   "execution_count": null,
   "metadata": {},
   "outputs": [],
   "source": []
  },
  {
   "cell_type": "code",
   "execution_count": 16,
   "metadata": {},
   "outputs": [],
   "source": [
    "hhh = h5.File(\"/cosma6/data/dp004/dc-aram1/VariableIMF/patchrea/specwizgit/natasha/specwizard_versions/rhotot_los_1.hdf5\", 'r')"
   ]
  },
  {
   "cell_type": "code",
   "execution_count": 21,
   "metadata": {},
   "outputs": [
    {
     "data": {
      "text/plain": [
       "[<matplotlib.lines.Line2D at 0x2ae44bcfbfd0>]"
      ]
     },
     "execution_count": 21,
     "metadata": {},
     "output_type": "execute_result"
    },
    {
     "data": {
      "image/png": "[encoded data removed]",
      "text/plain": [
       "<Figure size 432x288 with 1 Axes>"
      ]
     },
     "metadata": {},
     "output_type": "display_data"
    }
   ],
   "source": [
    "plt.plot(loss.rho_tot*6.76991130339558456e-41,\"-.\")\n",
    "plt.plot(hhh['rho_tot($i)'][...],'-.')\n"
   ]
  },
  {
   "cell_type": "code",
   "execution_count": 18,
   "metadata": {},
   "outputs": [
    {
     "data": {
      "text/plain": [
       "[<matplotlib.lines.Line2D at 0x2b83a63e8450>]"
      ]
     },
     "execution_count": 18,
     "metadata": {},
     "output_type": "execute_result"
    },
    {
     "data": {
      "image/png": "[encoded data removed]",
      "text/plain": [
       "<Figure size 432x288 with 1 Axes>"
      ]
     },
     "metadata": {},
     "output_type": "display_data"
    }
   ],
   "source": [
    "plt.plot(np.log10(loss.rho_tot*6.76991130339558456e-41),\"-.\")\n"
   ]
  },
  {
   "cell_type": "code",
   "execution_count": null,
   "metadata": {},
   "outputs": [],
   "source": []
  },
  {
   "cell_type": "code",
   "execution_count": null,
   "metadata": {},
   "outputs": [],
   "source": []
  }
 ],
 "metadata": {
  "kernelspec": {
   "display_name": "Python 2",
   "language": "python",
   "name": "python2"
  },
  "language_info": {
   "codemirror_mode": {
    "name": "ipython",
    "version": 2
   },
   "file_extension": ".py",
   "mimetype": "text/x-python",
   "name": "python",
   "nbconvert_exporter": "python",
   "pygments_lexer": "ipython2",
   "version": "2.7.15"
  }
 },
 "nbformat": 4,
 "nbformat_minor": 4
}
